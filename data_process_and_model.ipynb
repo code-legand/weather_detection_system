{
 "cells": [
  {
   "cell_type": "code",
   "execution_count": 94,
   "id": "9729aeb3",
   "metadata": {},
   "outputs": [],
   "source": [
    "import numpy as np\n",
    "import pandas as pd\n",
    "import matplotlib.pyplot as plt\n",
    "import seaborn as sns"
   ]
  },
  {
   "cell_type": "code",
   "execution_count": 95,
   "id": "7fe6b500",
   "metadata": {
    "scrolled": true
   },
   "outputs": [
    {
     "data": {
      "text/html": [
       "<div>\n",
       "<style scoped>\n",
       "    .dataframe tbody tr th:only-of-type {\n",
       "        vertical-align: middle;\n",
       "    }\n",
       "\n",
       "    .dataframe tbody tr th {\n",
       "        vertical-align: top;\n",
       "    }\n",
       "\n",
       "    .dataframe thead th {\n",
       "        text-align: right;\n",
       "    }\n",
       "</style>\n",
       "<table border=\"1\" class=\"dataframe\">\n",
       "  <thead>\n",
       "    <tr style=\"text-align: right;\">\n",
       "      <th></th>\n",
       "      <th>key</th>\n",
       "      <th>class</th>\n",
       "      <th>expire_time_gmt</th>\n",
       "      <th>obs_id</th>\n",
       "      <th>obs_name</th>\n",
       "      <th>valid_time_gmt</th>\n",
       "      <th>day_ind</th>\n",
       "      <th>temp</th>\n",
       "      <th>wx_icon</th>\n",
       "      <th>icon_extd</th>\n",
       "      <th>...</th>\n",
       "      <th>clds</th>\n",
       "      <th>water_temp</th>\n",
       "      <th>primary_wave_period</th>\n",
       "      <th>primary_wave_height</th>\n",
       "      <th>primary_swell_period</th>\n",
       "      <th>primary_swell_height</th>\n",
       "      <th>primary_swell_direction</th>\n",
       "      <th>secondary_swell_period</th>\n",
       "      <th>secondary_swell_height</th>\n",
       "      <th>secondary_swell_direction</th>\n",
       "    </tr>\n",
       "  </thead>\n",
       "  <tbody>\n",
       "    <tr>\n",
       "      <th>0</th>\n",
       "      <td>43284</td>\n",
       "      <td>observation</td>\n",
       "      <td>1577837700</td>\n",
       "      <td>43284</td>\n",
       "      <td>Mangalore Intl</td>\n",
       "      <td>1577826000</td>\n",
       "      <td>N</td>\n",
       "      <td>76.0</td>\n",
       "      <td>29</td>\n",
       "      <td>2900</td>\n",
       "      <td>...</td>\n",
       "      <td>12.5</td>\n",
       "      <td>NaN</td>\n",
       "      <td>NaN</td>\n",
       "      <td>NaN</td>\n",
       "      <td>NaN</td>\n",
       "      <td>NaN</td>\n",
       "      <td>NaN</td>\n",
       "      <td>NaN</td>\n",
       "      <td>NaN</td>\n",
       "      <td>NaN</td>\n",
       "    </tr>\n",
       "    <tr>\n",
       "      <th>1</th>\n",
       "      <td>43284</td>\n",
       "      <td>observation</td>\n",
       "      <td>1577848500</td>\n",
       "      <td>43284</td>\n",
       "      <td>Mangalore Intl</td>\n",
       "      <td>1577836800</td>\n",
       "      <td>N</td>\n",
       "      <td>75.0</td>\n",
       "      <td>29</td>\n",
       "      <td>2900</td>\n",
       "      <td>...</td>\n",
       "      <td>12.5</td>\n",
       "      <td>NaN</td>\n",
       "      <td>NaN</td>\n",
       "      <td>NaN</td>\n",
       "      <td>NaN</td>\n",
       "      <td>NaN</td>\n",
       "      <td>NaN</td>\n",
       "      <td>NaN</td>\n",
       "      <td>NaN</td>\n",
       "      <td>NaN</td>\n",
       "    </tr>\n",
       "    <tr>\n",
       "      <th>2</th>\n",
       "      <td>43284</td>\n",
       "      <td>observation</td>\n",
       "      <td>1577859300</td>\n",
       "      <td>43284</td>\n",
       "      <td>Mangalore Intl</td>\n",
       "      <td>1577847600</td>\n",
       "      <td>D</td>\n",
       "      <td>78.0</td>\n",
       "      <td>30</td>\n",
       "      <td>3000</td>\n",
       "      <td>...</td>\n",
       "      <td>12.5</td>\n",
       "      <td>NaN</td>\n",
       "      <td>NaN</td>\n",
       "      <td>NaN</td>\n",
       "      <td>NaN</td>\n",
       "      <td>NaN</td>\n",
       "      <td>NaN</td>\n",
       "      <td>NaN</td>\n",
       "      <td>NaN</td>\n",
       "      <td>NaN</td>\n",
       "    </tr>\n",
       "    <tr>\n",
       "      <th>3</th>\n",
       "      <td>43284</td>\n",
       "      <td>observation</td>\n",
       "      <td>1577870100</td>\n",
       "      <td>43284</td>\n",
       "      <td>Mangalore Intl</td>\n",
       "      <td>1577858400</td>\n",
       "      <td>D</td>\n",
       "      <td>87.0</td>\n",
       "      <td>34</td>\n",
       "      <td>3400</td>\n",
       "      <td>...</td>\n",
       "      <td>12.5</td>\n",
       "      <td>NaN</td>\n",
       "      <td>NaN</td>\n",
       "      <td>NaN</td>\n",
       "      <td>NaN</td>\n",
       "      <td>NaN</td>\n",
       "      <td>NaN</td>\n",
       "      <td>NaN</td>\n",
       "      <td>NaN</td>\n",
       "      <td>NaN</td>\n",
       "    </tr>\n",
       "    <tr>\n",
       "      <th>4</th>\n",
       "      <td>43284</td>\n",
       "      <td>observation</td>\n",
       "      <td>1577880900</td>\n",
       "      <td>43284</td>\n",
       "      <td>Mangalore Intl</td>\n",
       "      <td>1577869200</td>\n",
       "      <td>D</td>\n",
       "      <td>89.0</td>\n",
       "      <td>30</td>\n",
       "      <td>3000</td>\n",
       "      <td>...</td>\n",
       "      <td>37.5</td>\n",
       "      <td>NaN</td>\n",
       "      <td>NaN</td>\n",
       "      <td>NaN</td>\n",
       "      <td>NaN</td>\n",
       "      <td>NaN</td>\n",
       "      <td>NaN</td>\n",
       "      <td>NaN</td>\n",
       "      <td>NaN</td>\n",
       "      <td>NaN</td>\n",
       "    </tr>\n",
       "    <tr>\n",
       "      <th>...</th>\n",
       "      <td>...</td>\n",
       "      <td>...</td>\n",
       "      <td>...</td>\n",
       "      <td>...</td>\n",
       "      <td>...</td>\n",
       "      <td>...</td>\n",
       "      <td>...</td>\n",
       "      <td>...</td>\n",
       "      <td>...</td>\n",
       "      <td>...</td>\n",
       "      <td>...</td>\n",
       "      <td>...</td>\n",
       "      <td>...</td>\n",
       "      <td>...</td>\n",
       "      <td>...</td>\n",
       "      <td>...</td>\n",
       "      <td>...</td>\n",
       "      <td>...</td>\n",
       "      <td>...</td>\n",
       "      <td>...</td>\n",
       "      <td>...</td>\n",
       "    </tr>\n",
       "    <tr>\n",
       "      <th>7302</th>\n",
       "      <td>43284</td>\n",
       "      <td>observation</td>\n",
       "      <td>1669626900</td>\n",
       "      <td>43284</td>\n",
       "      <td>Mangalore Intl</td>\n",
       "      <td>1669615200</td>\n",
       "      <td>D</td>\n",
       "      <td>82.0</td>\n",
       "      <td>28</td>\n",
       "      <td>2800</td>\n",
       "      <td>...</td>\n",
       "      <td>50.0</td>\n",
       "      <td>NaN</td>\n",
       "      <td>NaN</td>\n",
       "      <td>NaN</td>\n",
       "      <td>NaN</td>\n",
       "      <td>NaN</td>\n",
       "      <td>NaN</td>\n",
       "      <td>NaN</td>\n",
       "      <td>NaN</td>\n",
       "      <td>NaN</td>\n",
       "    </tr>\n",
       "    <tr>\n",
       "      <th>7303</th>\n",
       "      <td>43284</td>\n",
       "      <td>observation</td>\n",
       "      <td>1669637700</td>\n",
       "      <td>43284</td>\n",
       "      <td>Mangalore Intl</td>\n",
       "      <td>1669626000</td>\n",
       "      <td>D</td>\n",
       "      <td>81.0</td>\n",
       "      <td>28</td>\n",
       "      <td>2800</td>\n",
       "      <td>...</td>\n",
       "      <td>25.0</td>\n",
       "      <td>NaN</td>\n",
       "      <td>NaN</td>\n",
       "      <td>NaN</td>\n",
       "      <td>NaN</td>\n",
       "      <td>NaN</td>\n",
       "      <td>NaN</td>\n",
       "      <td>NaN</td>\n",
       "      <td>NaN</td>\n",
       "      <td>NaN</td>\n",
       "    </tr>\n",
       "    <tr>\n",
       "      <th>7304</th>\n",
       "      <td>43284</td>\n",
       "      <td>observation</td>\n",
       "      <td>1669648500</td>\n",
       "      <td>43284</td>\n",
       "      <td>Mangalore Intl</td>\n",
       "      <td>1669636800</td>\n",
       "      <td>D</td>\n",
       "      <td>81.0</td>\n",
       "      <td>28</td>\n",
       "      <td>2800</td>\n",
       "      <td>...</td>\n",
       "      <td>12.5</td>\n",
       "      <td>NaN</td>\n",
       "      <td>NaN</td>\n",
       "      <td>NaN</td>\n",
       "      <td>NaN</td>\n",
       "      <td>NaN</td>\n",
       "      <td>NaN</td>\n",
       "      <td>NaN</td>\n",
       "      <td>NaN</td>\n",
       "      <td>NaN</td>\n",
       "    </tr>\n",
       "    <tr>\n",
       "      <th>7305</th>\n",
       "      <td>43284</td>\n",
       "      <td>observation</td>\n",
       "      <td>1669659300</td>\n",
       "      <td>43284</td>\n",
       "      <td>Mangalore Intl</td>\n",
       "      <td>1669647600</td>\n",
       "      <td>N</td>\n",
       "      <td>78.0</td>\n",
       "      <td>29</td>\n",
       "      <td>2900</td>\n",
       "      <td>...</td>\n",
       "      <td>12.5</td>\n",
       "      <td>NaN</td>\n",
       "      <td>NaN</td>\n",
       "      <td>NaN</td>\n",
       "      <td>NaN</td>\n",
       "      <td>NaN</td>\n",
       "      <td>NaN</td>\n",
       "      <td>NaN</td>\n",
       "      <td>NaN</td>\n",
       "      <td>NaN</td>\n",
       "    </tr>\n",
       "    <tr>\n",
       "      <th>7306</th>\n",
       "      <td>43284</td>\n",
       "      <td>observation</td>\n",
       "      <td>1669670100</td>\n",
       "      <td>43284</td>\n",
       "      <td>Mangalore Intl</td>\n",
       "      <td>1669658400</td>\n",
       "      <td>N</td>\n",
       "      <td>77.0</td>\n",
       "      <td>29</td>\n",
       "      <td>2900</td>\n",
       "      <td>...</td>\n",
       "      <td>12.5</td>\n",
       "      <td>NaN</td>\n",
       "      <td>NaN</td>\n",
       "      <td>NaN</td>\n",
       "      <td>NaN</td>\n",
       "      <td>NaN</td>\n",
       "      <td>NaN</td>\n",
       "      <td>NaN</td>\n",
       "      <td>NaN</td>\n",
       "      <td>NaN</td>\n",
       "    </tr>\n",
       "  </tbody>\n",
       "</table>\n",
       "<p>7307 rows × 45 columns</p>\n",
       "</div>"
      ],
      "text/plain": [
       "        key        class  expire_time_gmt  obs_id        obs_name  \\\n",
       "0     43284  observation       1577837700   43284  Mangalore Intl   \n",
       "1     43284  observation       1577848500   43284  Mangalore Intl   \n",
       "2     43284  observation       1577859300   43284  Mangalore Intl   \n",
       "3     43284  observation       1577870100   43284  Mangalore Intl   \n",
       "4     43284  observation       1577880900   43284  Mangalore Intl   \n",
       "...     ...          ...              ...     ...             ...   \n",
       "7302  43284  observation       1669626900   43284  Mangalore Intl   \n",
       "7303  43284  observation       1669637700   43284  Mangalore Intl   \n",
       "7304  43284  observation       1669648500   43284  Mangalore Intl   \n",
       "7305  43284  observation       1669659300   43284  Mangalore Intl   \n",
       "7306  43284  observation       1669670100   43284  Mangalore Intl   \n",
       "\n",
       "      valid_time_gmt day_ind  temp  wx_icon  icon_extd  ...  clds  water_temp  \\\n",
       "0         1577826000       N  76.0       29       2900  ...  12.5         NaN   \n",
       "1         1577836800       N  75.0       29       2900  ...  12.5         NaN   \n",
       "2         1577847600       D  78.0       30       3000  ...  12.5         NaN   \n",
       "3         1577858400       D  87.0       34       3400  ...  12.5         NaN   \n",
       "4         1577869200       D  89.0       30       3000  ...  37.5         NaN   \n",
       "...              ...     ...   ...      ...        ...  ...   ...         ...   \n",
       "7302      1669615200       D  82.0       28       2800  ...  50.0         NaN   \n",
       "7303      1669626000       D  81.0       28       2800  ...  25.0         NaN   \n",
       "7304      1669636800       D  81.0       28       2800  ...  12.5         NaN   \n",
       "7305      1669647600       N  78.0       29       2900  ...  12.5         NaN   \n",
       "7306      1669658400       N  77.0       29       2900  ...  12.5         NaN   \n",
       "\n",
       "      primary_wave_period  primary_wave_height  primary_swell_period  \\\n",
       "0                     NaN                  NaN                   NaN   \n",
       "1                     NaN                  NaN                   NaN   \n",
       "2                     NaN                  NaN                   NaN   \n",
       "3                     NaN                  NaN                   NaN   \n",
       "4                     NaN                  NaN                   NaN   \n",
       "...                   ...                  ...                   ...   \n",
       "7302                  NaN                  NaN                   NaN   \n",
       "7303                  NaN                  NaN                   NaN   \n",
       "7304                  NaN                  NaN                   NaN   \n",
       "7305                  NaN                  NaN                   NaN   \n",
       "7306                  NaN                  NaN                   NaN   \n",
       "\n",
       "      primary_swell_height  primary_swell_direction  secondary_swell_period  \\\n",
       "0                      NaN                      NaN                     NaN   \n",
       "1                      NaN                      NaN                     NaN   \n",
       "2                      NaN                      NaN                     NaN   \n",
       "3                      NaN                      NaN                     NaN   \n",
       "4                      NaN                      NaN                     NaN   \n",
       "...                    ...                      ...                     ...   \n",
       "7302                   NaN                      NaN                     NaN   \n",
       "7303                   NaN                      NaN                     NaN   \n",
       "7304                   NaN                      NaN                     NaN   \n",
       "7305                   NaN                      NaN                     NaN   \n",
       "7306                   NaN                      NaN                     NaN   \n",
       "\n",
       "      secondary_swell_height  secondary_swell_direction  \n",
       "0                        NaN                        NaN  \n",
       "1                        NaN                        NaN  \n",
       "2                        NaN                        NaN  \n",
       "3                        NaN                        NaN  \n",
       "4                        NaN                        NaN  \n",
       "...                      ...                        ...  \n",
       "7302                     NaN                        NaN  \n",
       "7303                     NaN                        NaN  \n",
       "7304                     NaN                        NaN  \n",
       "7305                     NaN                        NaN  \n",
       "7306                     NaN                        NaN  \n",
       "\n",
       "[7307 rows x 45 columns]"
      ]
     },
     "execution_count": 95,
     "metadata": {},
     "output_type": "execute_result"
    }
   ],
   "source": [
    "df = pd.read_json(\"data.json\")\n",
    "df"
   ]
  },
  {
   "cell_type": "code",
   "execution_count": 96,
   "id": "1a6f7856",
   "metadata": {},
   "outputs": [],
   "source": [
    "df=df.iloc[5000::, ::]"
   ]
  },
  {
   "cell_type": "code",
   "execution_count": 97,
   "id": "2f23a565",
   "metadata": {
    "scrolled": false
   },
   "outputs": [
    {
     "data": {
      "text/plain": [
       "key                             1\n",
       "class                           1\n",
       "expire_time_gmt              2307\n",
       "obs_id                          1\n",
       "obs_name                        1\n",
       "valid_time_gmt               2307\n",
       "day_ind                         2\n",
       "temp                           29\n",
       "wx_icon                        14\n",
       "icon_extd                      17\n",
       "wx_phrase                      13\n",
       "pressure_tend                   0\n",
       "pressure_desc                   0\n",
       "dewPt                          32\n",
       "heat_index                     41\n",
       "rh                             72\n",
       "pressure                       38\n",
       "vis                             7\n",
       "wc                             29\n",
       "wdir                           16\n",
       "wdir_cardinal                  18\n",
       "gust                            0\n",
       "wspd                           17\n",
       "max_temp                       25\n",
       "min_temp                       16\n",
       "precip_total                   95\n",
       "precip_hrly                     0\n",
       "snow_hrly                       0\n",
       "uv_desc                         5\n",
       "feels_like                     41\n",
       "uv_index                       14\n",
       "qualifier                       0\n",
       "qualifier_svrty                 0\n",
       "blunt_phrase                    0\n",
       "terse_phrase                    0\n",
       "clds                            8\n",
       "water_temp                      0\n",
       "primary_wave_period             0\n",
       "primary_wave_height             0\n",
       "primary_swell_period            0\n",
       "primary_swell_height            0\n",
       "primary_swell_direction         0\n",
       "secondary_swell_period          0\n",
       "secondary_swell_height          0\n",
       "secondary_swell_direction       0\n",
       "dtype: int64"
      ]
     },
     "execution_count": 97,
     "metadata": {},
     "output_type": "execute_result"
    }
   ],
   "source": [
    "df.nunique()"
   ]
  },
  {
   "cell_type": "code",
   "execution_count": 98,
   "id": "d7dc37b7",
   "metadata": {
    "scrolled": true
   },
   "outputs": [
    {
     "data": {
      "text/html": [
       "<div>\n",
       "<style scoped>\n",
       "    .dataframe tbody tr th:only-of-type {\n",
       "        vertical-align: middle;\n",
       "    }\n",
       "\n",
       "    .dataframe tbody tr th {\n",
       "        vertical-align: top;\n",
       "    }\n",
       "\n",
       "    .dataframe thead th {\n",
       "        text-align: right;\n",
       "    }\n",
       "</style>\n",
       "<table border=\"1\" class=\"dataframe\">\n",
       "  <thead>\n",
       "    <tr style=\"text-align: right;\">\n",
       "      <th></th>\n",
       "      <th>temp</th>\n",
       "      <th>pressure</th>\n",
       "      <th>rh</th>\n",
       "      <th>precip_total</th>\n",
       "      <th>day_ind</th>\n",
       "      <th>wx_phrase</th>\n",
       "    </tr>\n",
       "  </thead>\n",
       "  <tbody>\n",
       "    <tr>\n",
       "      <th>5000</th>\n",
       "      <td>72.0</td>\n",
       "      <td>29.59</td>\n",
       "      <td>76.0</td>\n",
       "      <td>0.0</td>\n",
       "      <td>D</td>\n",
       "      <td>Fair</td>\n",
       "    </tr>\n",
       "    <tr>\n",
       "      <th>5001</th>\n",
       "      <td>86.0</td>\n",
       "      <td>29.58</td>\n",
       "      <td>41.0</td>\n",
       "      <td>NaN</td>\n",
       "      <td>D</td>\n",
       "      <td>Fair</td>\n",
       "    </tr>\n",
       "    <tr>\n",
       "      <th>5002</th>\n",
       "      <td>88.0</td>\n",
       "      <td>29.49</td>\n",
       "      <td>44.0</td>\n",
       "      <td>NaN</td>\n",
       "      <td>D</td>\n",
       "      <td>Fair</td>\n",
       "    </tr>\n",
       "    <tr>\n",
       "      <th>5003</th>\n",
       "      <td>85.0</td>\n",
       "      <td>29.49</td>\n",
       "      <td>48.0</td>\n",
       "      <td>NaN</td>\n",
       "      <td>D</td>\n",
       "      <td>Fair</td>\n",
       "    </tr>\n",
       "    <tr>\n",
       "      <th>5004</th>\n",
       "      <td>79.0</td>\n",
       "      <td>29.54</td>\n",
       "      <td>63.0</td>\n",
       "      <td>NaN</td>\n",
       "      <td>N</td>\n",
       "      <td>Fair</td>\n",
       "    </tr>\n",
       "    <tr>\n",
       "      <th>...</th>\n",
       "      <td>...</td>\n",
       "      <td>...</td>\n",
       "      <td>...</td>\n",
       "      <td>...</td>\n",
       "      <td>...</td>\n",
       "      <td>...</td>\n",
       "    </tr>\n",
       "    <tr>\n",
       "      <th>7302</th>\n",
       "      <td>82.0</td>\n",
       "      <td>29.51</td>\n",
       "      <td>78.0</td>\n",
       "      <td>NaN</td>\n",
       "      <td>D</td>\n",
       "      <td>Mostly Cloudy</td>\n",
       "    </tr>\n",
       "    <tr>\n",
       "      <th>7303</th>\n",
       "      <td>81.0</td>\n",
       "      <td>29.44</td>\n",
       "      <td>75.0</td>\n",
       "      <td>NaN</td>\n",
       "      <td>D</td>\n",
       "      <td>Mostly Cloudy</td>\n",
       "    </tr>\n",
       "    <tr>\n",
       "      <th>7304</th>\n",
       "      <td>81.0</td>\n",
       "      <td>29.44</td>\n",
       "      <td>75.0</td>\n",
       "      <td>NaN</td>\n",
       "      <td>D</td>\n",
       "      <td>Mostly Cloudy</td>\n",
       "    </tr>\n",
       "    <tr>\n",
       "      <th>7305</th>\n",
       "      <td>78.0</td>\n",
       "      <td>29.49</td>\n",
       "      <td>85.0</td>\n",
       "      <td>NaN</td>\n",
       "      <td>N</td>\n",
       "      <td>Partly Cloudy</td>\n",
       "    </tr>\n",
       "    <tr>\n",
       "      <th>7306</th>\n",
       "      <td>77.0</td>\n",
       "      <td>29.51</td>\n",
       "      <td>86.0</td>\n",
       "      <td>NaN</td>\n",
       "      <td>N</td>\n",
       "      <td>Partly Cloudy</td>\n",
       "    </tr>\n",
       "  </tbody>\n",
       "</table>\n",
       "<p>2307 rows × 6 columns</p>\n",
       "</div>"
      ],
      "text/plain": [
       "      temp  pressure    rh  precip_total day_ind      wx_phrase\n",
       "5000  72.0     29.59  76.0           0.0       D           Fair\n",
       "5001  86.0     29.58  41.0           NaN       D           Fair\n",
       "5002  88.0     29.49  44.0           NaN       D           Fair\n",
       "5003  85.0     29.49  48.0           NaN       D           Fair\n",
       "5004  79.0     29.54  63.0           NaN       N           Fair\n",
       "...    ...       ...   ...           ...     ...            ...\n",
       "7302  82.0     29.51  78.0           NaN       D  Mostly Cloudy\n",
       "7303  81.0     29.44  75.0           NaN       D  Mostly Cloudy\n",
       "7304  81.0     29.44  75.0           NaN       D  Mostly Cloudy\n",
       "7305  78.0     29.49  85.0           NaN       N  Partly Cloudy\n",
       "7306  77.0     29.51  86.0           NaN       N  Partly Cloudy\n",
       "\n",
       "[2307 rows x 6 columns]"
      ]
     },
     "execution_count": 98,
     "metadata": {},
     "output_type": "execute_result"
    }
   ],
   "source": [
    "df=df[['temp', 'pressure', 'rh', 'precip_total', 'day_ind', 'wx_phrase']]\n",
    "df"
   ]
  },
  {
   "cell_type": "code",
   "execution_count": 99,
   "id": "1f14e10a",
   "metadata": {},
   "outputs": [
    {
     "data": {
      "text/html": [
       "<div>\n",
       "<style scoped>\n",
       "    .dataframe tbody tr th:only-of-type {\n",
       "        vertical-align: middle;\n",
       "    }\n",
       "\n",
       "    .dataframe tbody tr th {\n",
       "        vertical-align: top;\n",
       "    }\n",
       "\n",
       "    .dataframe thead th {\n",
       "        text-align: right;\n",
       "    }\n",
       "</style>\n",
       "<table border=\"1\" class=\"dataframe\">\n",
       "  <thead>\n",
       "    <tr style=\"text-align: right;\">\n",
       "      <th></th>\n",
       "      <th>temperature</th>\n",
       "      <th>pressure</th>\n",
       "      <th>humidity</th>\n",
       "      <th>rain</th>\n",
       "      <th>day_or_night</th>\n",
       "      <th>weather</th>\n",
       "    </tr>\n",
       "  </thead>\n",
       "  <tbody>\n",
       "    <tr>\n",
       "      <th>5000</th>\n",
       "      <td>72.0</td>\n",
       "      <td>29.59</td>\n",
       "      <td>76.0</td>\n",
       "      <td>0.0</td>\n",
       "      <td>D</td>\n",
       "      <td>Fair</td>\n",
       "    </tr>\n",
       "    <tr>\n",
       "      <th>5001</th>\n",
       "      <td>86.0</td>\n",
       "      <td>29.58</td>\n",
       "      <td>41.0</td>\n",
       "      <td>NaN</td>\n",
       "      <td>D</td>\n",
       "      <td>Fair</td>\n",
       "    </tr>\n",
       "    <tr>\n",
       "      <th>5002</th>\n",
       "      <td>88.0</td>\n",
       "      <td>29.49</td>\n",
       "      <td>44.0</td>\n",
       "      <td>NaN</td>\n",
       "      <td>D</td>\n",
       "      <td>Fair</td>\n",
       "    </tr>\n",
       "    <tr>\n",
       "      <th>5003</th>\n",
       "      <td>85.0</td>\n",
       "      <td>29.49</td>\n",
       "      <td>48.0</td>\n",
       "      <td>NaN</td>\n",
       "      <td>D</td>\n",
       "      <td>Fair</td>\n",
       "    </tr>\n",
       "    <tr>\n",
       "      <th>5004</th>\n",
       "      <td>79.0</td>\n",
       "      <td>29.54</td>\n",
       "      <td>63.0</td>\n",
       "      <td>NaN</td>\n",
       "      <td>N</td>\n",
       "      <td>Fair</td>\n",
       "    </tr>\n",
       "    <tr>\n",
       "      <th>...</th>\n",
       "      <td>...</td>\n",
       "      <td>...</td>\n",
       "      <td>...</td>\n",
       "      <td>...</td>\n",
       "      <td>...</td>\n",
       "      <td>...</td>\n",
       "    </tr>\n",
       "    <tr>\n",
       "      <th>7302</th>\n",
       "      <td>82.0</td>\n",
       "      <td>29.51</td>\n",
       "      <td>78.0</td>\n",
       "      <td>NaN</td>\n",
       "      <td>D</td>\n",
       "      <td>Mostly Cloudy</td>\n",
       "    </tr>\n",
       "    <tr>\n",
       "      <th>7303</th>\n",
       "      <td>81.0</td>\n",
       "      <td>29.44</td>\n",
       "      <td>75.0</td>\n",
       "      <td>NaN</td>\n",
       "      <td>D</td>\n",
       "      <td>Mostly Cloudy</td>\n",
       "    </tr>\n",
       "    <tr>\n",
       "      <th>7304</th>\n",
       "      <td>81.0</td>\n",
       "      <td>29.44</td>\n",
       "      <td>75.0</td>\n",
       "      <td>NaN</td>\n",
       "      <td>D</td>\n",
       "      <td>Mostly Cloudy</td>\n",
       "    </tr>\n",
       "    <tr>\n",
       "      <th>7305</th>\n",
       "      <td>78.0</td>\n",
       "      <td>29.49</td>\n",
       "      <td>85.0</td>\n",
       "      <td>NaN</td>\n",
       "      <td>N</td>\n",
       "      <td>Partly Cloudy</td>\n",
       "    </tr>\n",
       "    <tr>\n",
       "      <th>7306</th>\n",
       "      <td>77.0</td>\n",
       "      <td>29.51</td>\n",
       "      <td>86.0</td>\n",
       "      <td>NaN</td>\n",
       "      <td>N</td>\n",
       "      <td>Partly Cloudy</td>\n",
       "    </tr>\n",
       "  </tbody>\n",
       "</table>\n",
       "<p>2307 rows × 6 columns</p>\n",
       "</div>"
      ],
      "text/plain": [
       "      temperature  pressure  humidity  rain day_or_night        weather\n",
       "5000         72.0     29.59      76.0   0.0            D           Fair\n",
       "5001         86.0     29.58      41.0   NaN            D           Fair\n",
       "5002         88.0     29.49      44.0   NaN            D           Fair\n",
       "5003         85.0     29.49      48.0   NaN            D           Fair\n",
       "5004         79.0     29.54      63.0   NaN            N           Fair\n",
       "...           ...       ...       ...   ...          ...            ...\n",
       "7302         82.0     29.51      78.0   NaN            D  Mostly Cloudy\n",
       "7303         81.0     29.44      75.0   NaN            D  Mostly Cloudy\n",
       "7304         81.0     29.44      75.0   NaN            D  Mostly Cloudy\n",
       "7305         78.0     29.49      85.0   NaN            N  Partly Cloudy\n",
       "7306         77.0     29.51      86.0   NaN            N  Partly Cloudy\n",
       "\n",
       "[2307 rows x 6 columns]"
      ]
     },
     "execution_count": 99,
     "metadata": {},
     "output_type": "execute_result"
    }
   ],
   "source": [
    "df=df.rename(columns={'temp': 'temperature', 'rh': 'humidity', 'precip_total': 'rain', 'day_ind': 'day_or_night', 'wx_phrase': 'weather'})\n",
    "df"
   ]
  },
  {
   "cell_type": "code",
   "execution_count": 100,
   "id": "7ed1318b",
   "metadata": {},
   "outputs": [
    {
     "data": {
      "text/html": [
       "<div>\n",
       "<style scoped>\n",
       "    .dataframe tbody tr th:only-of-type {\n",
       "        vertical-align: middle;\n",
       "    }\n",
       "\n",
       "    .dataframe tbody tr th {\n",
       "        vertical-align: top;\n",
       "    }\n",
       "\n",
       "    .dataframe thead th {\n",
       "        text-align: right;\n",
       "    }\n",
       "</style>\n",
       "<table border=\"1\" class=\"dataframe\">\n",
       "  <thead>\n",
       "    <tr style=\"text-align: right;\">\n",
       "      <th></th>\n",
       "      <th>temperature</th>\n",
       "      <th>pressure</th>\n",
       "      <th>humidity</th>\n",
       "      <th>rain</th>\n",
       "      <th>day_or_night</th>\n",
       "      <th>weather</th>\n",
       "    </tr>\n",
       "  </thead>\n",
       "  <tbody>\n",
       "    <tr>\n",
       "      <th>5000</th>\n",
       "      <td>72.0</td>\n",
       "      <td>29.59</td>\n",
       "      <td>76.0</td>\n",
       "      <td>0.0</td>\n",
       "      <td>D</td>\n",
       "      <td>Fair</td>\n",
       "    </tr>\n",
       "    <tr>\n",
       "      <th>5001</th>\n",
       "      <td>86.0</td>\n",
       "      <td>29.58</td>\n",
       "      <td>41.0</td>\n",
       "      <td>0.0</td>\n",
       "      <td>D</td>\n",
       "      <td>Fair</td>\n",
       "    </tr>\n",
       "    <tr>\n",
       "      <th>5002</th>\n",
       "      <td>88.0</td>\n",
       "      <td>29.49</td>\n",
       "      <td>44.0</td>\n",
       "      <td>0.0</td>\n",
       "      <td>D</td>\n",
       "      <td>Fair</td>\n",
       "    </tr>\n",
       "    <tr>\n",
       "      <th>5003</th>\n",
       "      <td>85.0</td>\n",
       "      <td>29.49</td>\n",
       "      <td>48.0</td>\n",
       "      <td>0.0</td>\n",
       "      <td>D</td>\n",
       "      <td>Fair</td>\n",
       "    </tr>\n",
       "    <tr>\n",
       "      <th>5004</th>\n",
       "      <td>79.0</td>\n",
       "      <td>29.54</td>\n",
       "      <td>63.0</td>\n",
       "      <td>0.0</td>\n",
       "      <td>N</td>\n",
       "      <td>Fair</td>\n",
       "    </tr>\n",
       "    <tr>\n",
       "      <th>...</th>\n",
       "      <td>...</td>\n",
       "      <td>...</td>\n",
       "      <td>...</td>\n",
       "      <td>...</td>\n",
       "      <td>...</td>\n",
       "      <td>...</td>\n",
       "    </tr>\n",
       "    <tr>\n",
       "      <th>7302</th>\n",
       "      <td>82.0</td>\n",
       "      <td>29.51</td>\n",
       "      <td>78.0</td>\n",
       "      <td>0.0</td>\n",
       "      <td>D</td>\n",
       "      <td>Mostly Cloudy</td>\n",
       "    </tr>\n",
       "    <tr>\n",
       "      <th>7303</th>\n",
       "      <td>81.0</td>\n",
       "      <td>29.44</td>\n",
       "      <td>75.0</td>\n",
       "      <td>0.0</td>\n",
       "      <td>D</td>\n",
       "      <td>Mostly Cloudy</td>\n",
       "    </tr>\n",
       "    <tr>\n",
       "      <th>7304</th>\n",
       "      <td>81.0</td>\n",
       "      <td>29.44</td>\n",
       "      <td>75.0</td>\n",
       "      <td>0.0</td>\n",
       "      <td>D</td>\n",
       "      <td>Mostly Cloudy</td>\n",
       "    </tr>\n",
       "    <tr>\n",
       "      <th>7305</th>\n",
       "      <td>78.0</td>\n",
       "      <td>29.49</td>\n",
       "      <td>85.0</td>\n",
       "      <td>0.0</td>\n",
       "      <td>N</td>\n",
       "      <td>Partly Cloudy</td>\n",
       "    </tr>\n",
       "    <tr>\n",
       "      <th>7306</th>\n",
       "      <td>77.0</td>\n",
       "      <td>29.51</td>\n",
       "      <td>86.0</td>\n",
       "      <td>0.0</td>\n",
       "      <td>N</td>\n",
       "      <td>Partly Cloudy</td>\n",
       "    </tr>\n",
       "  </tbody>\n",
       "</table>\n",
       "<p>2307 rows × 6 columns</p>\n",
       "</div>"
      ],
      "text/plain": [
       "      temperature  pressure  humidity  rain day_or_night        weather\n",
       "5000         72.0     29.59      76.0   0.0            D           Fair\n",
       "5001         86.0     29.58      41.0   0.0            D           Fair\n",
       "5002         88.0     29.49      44.0   0.0            D           Fair\n",
       "5003         85.0     29.49      48.0   0.0            D           Fair\n",
       "5004         79.0     29.54      63.0   0.0            N           Fair\n",
       "...           ...       ...       ...   ...          ...            ...\n",
       "7302         82.0     29.51      78.0   0.0            D  Mostly Cloudy\n",
       "7303         81.0     29.44      75.0   0.0            D  Mostly Cloudy\n",
       "7304         81.0     29.44      75.0   0.0            D  Mostly Cloudy\n",
       "7305         78.0     29.49      85.0   0.0            N  Partly Cloudy\n",
       "7306         77.0     29.51      86.0   0.0            N  Partly Cloudy\n",
       "\n",
       "[2307 rows x 6 columns]"
      ]
     },
     "execution_count": 100,
     "metadata": {},
     "output_type": "execute_result"
    }
   ],
   "source": [
    "df['rain']=df['rain'].fillna(0)\n",
    "df"
   ]
  },
  {
   "cell_type": "code",
   "execution_count": 101,
   "id": "402c1293",
   "metadata": {},
   "outputs": [
    {
     "data": {
      "text/html": [
       "<div>\n",
       "<style scoped>\n",
       "    .dataframe tbody tr th:only-of-type {\n",
       "        vertical-align: middle;\n",
       "    }\n",
       "\n",
       "    .dataframe tbody tr th {\n",
       "        vertical-align: top;\n",
       "    }\n",
       "\n",
       "    .dataframe thead th {\n",
       "        text-align: right;\n",
       "    }\n",
       "</style>\n",
       "<table border=\"1\" class=\"dataframe\">\n",
       "  <thead>\n",
       "    <tr style=\"text-align: right;\">\n",
       "      <th></th>\n",
       "      <th>temperature</th>\n",
       "      <th>pressure</th>\n",
       "      <th>humidity</th>\n",
       "      <th>rain</th>\n",
       "      <th>day_or_night</th>\n",
       "      <th>weather</th>\n",
       "    </tr>\n",
       "  </thead>\n",
       "  <tbody>\n",
       "  </tbody>\n",
       "</table>\n",
       "</div>"
      ],
      "text/plain": [
       "Empty DataFrame\n",
       "Columns: [temperature, pressure, humidity, rain, day_or_night, weather]\n",
       "Index: []"
      ]
     },
     "execution_count": 101,
     "metadata": {},
     "output_type": "execute_result"
    }
   ],
   "source": [
    "df.loc[df.isnull().sum(axis=1)!=0, ::]"
   ]
  },
  {
   "cell_type": "code",
   "execution_count": 102,
   "id": "e2f4c60b",
   "metadata": {
    "scrolled": false
   },
   "outputs": [
    {
     "data": {
      "text/html": [
       "<div>\n",
       "<style scoped>\n",
       "    .dataframe tbody tr th:only-of-type {\n",
       "        vertical-align: middle;\n",
       "    }\n",
       "\n",
       "    .dataframe tbody tr th {\n",
       "        vertical-align: top;\n",
       "    }\n",
       "\n",
       "    .dataframe thead th {\n",
       "        text-align: right;\n",
       "    }\n",
       "</style>\n",
       "<table border=\"1\" class=\"dataframe\">\n",
       "  <thead>\n",
       "    <tr style=\"text-align: right;\">\n",
       "      <th></th>\n",
       "      <th>temperature</th>\n",
       "      <th>pressure</th>\n",
       "      <th>humidity</th>\n",
       "      <th>rain</th>\n",
       "      <th>day_or_night</th>\n",
       "      <th>weather</th>\n",
       "    </tr>\n",
       "  </thead>\n",
       "  <tbody>\n",
       "    <tr>\n",
       "      <th>5000</th>\n",
       "      <td>72.0</td>\n",
       "      <td>29.59</td>\n",
       "      <td>76.0</td>\n",
       "      <td>0.0</td>\n",
       "      <td>D</td>\n",
       "      <td>Fair</td>\n",
       "    </tr>\n",
       "    <tr>\n",
       "      <th>5001</th>\n",
       "      <td>86.0</td>\n",
       "      <td>29.58</td>\n",
       "      <td>41.0</td>\n",
       "      <td>0.0</td>\n",
       "      <td>D</td>\n",
       "      <td>Fair</td>\n",
       "    </tr>\n",
       "    <tr>\n",
       "      <th>5002</th>\n",
       "      <td>88.0</td>\n",
       "      <td>29.49</td>\n",
       "      <td>44.0</td>\n",
       "      <td>0.0</td>\n",
       "      <td>D</td>\n",
       "      <td>Fair</td>\n",
       "    </tr>\n",
       "    <tr>\n",
       "      <th>5003</th>\n",
       "      <td>85.0</td>\n",
       "      <td>29.49</td>\n",
       "      <td>48.0</td>\n",
       "      <td>0.0</td>\n",
       "      <td>D</td>\n",
       "      <td>Fair</td>\n",
       "    </tr>\n",
       "    <tr>\n",
       "      <th>5004</th>\n",
       "      <td>79.0</td>\n",
       "      <td>29.54</td>\n",
       "      <td>63.0</td>\n",
       "      <td>0.0</td>\n",
       "      <td>N</td>\n",
       "      <td>Fair</td>\n",
       "    </tr>\n",
       "    <tr>\n",
       "      <th>...</th>\n",
       "      <td>...</td>\n",
       "      <td>...</td>\n",
       "      <td>...</td>\n",
       "      <td>...</td>\n",
       "      <td>...</td>\n",
       "      <td>...</td>\n",
       "    </tr>\n",
       "    <tr>\n",
       "      <th>7302</th>\n",
       "      <td>82.0</td>\n",
       "      <td>29.51</td>\n",
       "      <td>78.0</td>\n",
       "      <td>0.0</td>\n",
       "      <td>D</td>\n",
       "      <td>Mostly Cloudy</td>\n",
       "    </tr>\n",
       "    <tr>\n",
       "      <th>7303</th>\n",
       "      <td>81.0</td>\n",
       "      <td>29.44</td>\n",
       "      <td>75.0</td>\n",
       "      <td>0.0</td>\n",
       "      <td>D</td>\n",
       "      <td>Mostly Cloudy</td>\n",
       "    </tr>\n",
       "    <tr>\n",
       "      <th>7304</th>\n",
       "      <td>81.0</td>\n",
       "      <td>29.44</td>\n",
       "      <td>75.0</td>\n",
       "      <td>0.0</td>\n",
       "      <td>D</td>\n",
       "      <td>Mostly Cloudy</td>\n",
       "    </tr>\n",
       "    <tr>\n",
       "      <th>7305</th>\n",
       "      <td>78.0</td>\n",
       "      <td>29.49</td>\n",
       "      <td>85.0</td>\n",
       "      <td>0.0</td>\n",
       "      <td>N</td>\n",
       "      <td>Partly Cloudy</td>\n",
       "    </tr>\n",
       "    <tr>\n",
       "      <th>7306</th>\n",
       "      <td>77.0</td>\n",
       "      <td>29.51</td>\n",
       "      <td>86.0</td>\n",
       "      <td>0.0</td>\n",
       "      <td>N</td>\n",
       "      <td>Partly Cloudy</td>\n",
       "    </tr>\n",
       "  </tbody>\n",
       "</table>\n",
       "<p>2307 rows × 6 columns</p>\n",
       "</div>"
      ],
      "text/plain": [
       "      temperature  pressure  humidity  rain day_or_night        weather\n",
       "5000         72.0     29.59      76.0   0.0            D           Fair\n",
       "5001         86.0     29.58      41.0   0.0            D           Fair\n",
       "5002         88.0     29.49      44.0   0.0            D           Fair\n",
       "5003         85.0     29.49      48.0   0.0            D           Fair\n",
       "5004         79.0     29.54      63.0   0.0            N           Fair\n",
       "...           ...       ...       ...   ...          ...            ...\n",
       "7302         82.0     29.51      78.0   0.0            D  Mostly Cloudy\n",
       "7303         81.0     29.44      75.0   0.0            D  Mostly Cloudy\n",
       "7304         81.0     29.44      75.0   0.0            D  Mostly Cloudy\n",
       "7305         78.0     29.49      85.0   0.0            N  Partly Cloudy\n",
       "7306         77.0     29.51      86.0   0.0            N  Partly Cloudy\n",
       "\n",
       "[2307 rows x 6 columns]"
      ]
     },
     "execution_count": 102,
     "metadata": {},
     "output_type": "execute_result"
    }
   ],
   "source": [
    "df=df.dropna()\n",
    "df"
   ]
  },
  {
   "cell_type": "code",
   "execution_count": 103,
   "id": "50bde055",
   "metadata": {
    "scrolled": true
   },
   "outputs": [
    {
     "data": {
      "text/plain": [
       "temperature     0\n",
       "pressure        0\n",
       "humidity        0\n",
       "rain            0\n",
       "day_or_night    0\n",
       "weather         0\n",
       "dtype: int64"
      ]
     },
     "execution_count": 103,
     "metadata": {},
     "output_type": "execute_result"
    }
   ],
   "source": [
    "df.isnull().sum(axis=0)"
   ]
  },
  {
   "cell_type": "code",
   "execution_count": 104,
   "id": "8381300a",
   "metadata": {
    "scrolled": true
   },
   "outputs": [
    {
     "data": {
      "text/plain": [
       "Mostly Cloudy          664\n",
       "Fair                   598\n",
       "Partly Cloudy          361\n",
       "Cloudy                 341\n",
       "Thunder                120\n",
       "Light Rain              98\n",
       "Light Rain Shower       62\n",
       "Fog                     33\n",
       "Rain Shower             13\n",
       "Light Drizzle            9\n",
       "Heavy Rain Shower        5\n",
       "Rain Shower / Windy      2\n",
       "Rain                     1\n",
       "Name: weather, dtype: int64"
      ]
     },
     "execution_count": 104,
     "metadata": {},
     "output_type": "execute_result"
    }
   ],
   "source": [
    "df['weather'].value_counts()"
   ]
  },
  {
   "cell_type": "code",
   "execution_count": 105,
   "id": "aad048df",
   "metadata": {},
   "outputs": [],
   "source": [
    "df.loc[df['weather']=='Heavy Rain Shower', ['weather']]='Rain'\n",
    "df.loc[df['weather']=='Rain Shower / Windy', ['weather']]='Rain Shower'\n",
    "df.loc[df['weather']=='Fair / Windy', ['weather']]='Fair'\n",
    "df.loc[df['weather']=='Light Rain / Windy', ['weather']]='Light Rain'"
   ]
  },
  {
   "cell_type": "code",
   "execution_count": 106,
   "id": "33b11e34",
   "metadata": {
    "scrolled": true
   },
   "outputs": [
    {
     "data": {
      "text/plain": [
       "Mostly Cloudy        664\n",
       "Fair                 598\n",
       "Partly Cloudy        361\n",
       "Cloudy               341\n",
       "Thunder              120\n",
       "Light Rain            98\n",
       "Light Rain Shower     62\n",
       "Fog                   33\n",
       "Rain Shower           15\n",
       "Light Drizzle          9\n",
       "Rain                   6\n",
       "Name: weather, dtype: int64"
      ]
     },
     "execution_count": 106,
     "metadata": {},
     "output_type": "execute_result"
    }
   ],
   "source": [
    "df['weather'].value_counts()"
   ]
  },
  {
   "cell_type": "code",
   "execution_count": 107,
   "id": "312bb9e5",
   "metadata": {},
   "outputs": [],
   "source": [
    "df.loc[df['weather']=='Mostly Cloudy', ['weather']] = 1\n",
    "df.loc[df['weather']=='Fair', ['weather']] = 2\n",
    "df.loc[df['weather']=='Partly Cloudy', ['weather']] = 3\n",
    "df.loc[df['weather']=='Cloudy', ['weather']] = 4\n",
    "df.loc[df['weather']=='Thunder', ['weather']] = 5\n",
    "df.loc[df['weather']=='Light Rain', ['weather']] = 6\n",
    "df.loc[df['weather']=='Light Rain Shower', ['weather']] = 7\n",
    "df.loc[df['weather']=='Fog', ['weather']] = 8\n",
    "df.loc[df['weather']=='Rain Shower', ['weather']] = 9\n",
    "df.loc[df['weather']=='Light Drizzle', ['weather']] = 10\n",
    "df.loc[df['weather']=='Rain', ['weather']] = 11\n"
   ]
  },
  {
   "cell_type": "code",
   "execution_count": 108,
   "id": "70f0456b",
   "metadata": {
    "scrolled": true
   },
   "outputs": [
    {
     "data": {
      "text/plain": [
       "1     664\n",
       "2     598\n",
       "3     361\n",
       "4     341\n",
       "5     120\n",
       "6      98\n",
       "7      62\n",
       "8      33\n",
       "9      15\n",
       "10      9\n",
       "11      6\n",
       "Name: weather, dtype: int64"
      ]
     },
     "execution_count": 108,
     "metadata": {},
     "output_type": "execute_result"
    }
   ],
   "source": [
    "df['weather'].value_counts()"
   ]
  },
  {
   "cell_type": "code",
   "execution_count": 109,
   "id": "a9b98d8b",
   "metadata": {},
   "outputs": [],
   "source": [
    "df.loc[df['day_or_night']=='N', ['day_or_night']] = 0\n",
    "df.loc[df['day_or_night']=='D', ['day_or_night']] = 1\n"
   ]
  },
  {
   "cell_type": "code",
   "execution_count": 110,
   "id": "b16495df",
   "metadata": {},
   "outputs": [
    {
     "data": {
      "text/plain": [
       "1    1160\n",
       "0    1147\n",
       "Name: day_or_night, dtype: int64"
      ]
     },
     "execution_count": 110,
     "metadata": {},
     "output_type": "execute_result"
    }
   ],
   "source": [
    "df['day_or_night'].value_counts()"
   ]
  },
  {
   "cell_type": "code",
   "execution_count": 111,
   "id": "f28d10ef",
   "metadata": {
    "scrolled": true
   },
   "outputs": [
    {
     "data": {
      "text/plain": [
       "temperature     float64\n",
       "pressure        float64\n",
       "humidity        float64\n",
       "rain            float64\n",
       "day_or_night     object\n",
       "weather          object\n",
       "dtype: object"
      ]
     },
     "execution_count": 111,
     "metadata": {},
     "output_type": "execute_result"
    }
   ],
   "source": [
    "df.dtypes"
   ]
  },
  {
   "cell_type": "code",
   "execution_count": 112,
   "id": "46825ce6",
   "metadata": {
    "scrolled": false
   },
   "outputs": [
    {
     "data": {
      "text/plain": [
       "temperature       Int64\n",
       "pressure        Float64\n",
       "humidity          Int64\n",
       "rain            Float64\n",
       "day_or_night      Int64\n",
       "weather           Int64\n",
       "dtype: object"
      ]
     },
     "execution_count": 112,
     "metadata": {},
     "output_type": "execute_result"
    }
   ],
   "source": [
    "df=df.convert_dtypes()\n",
    "df.dtypes"
   ]
  },
  {
   "cell_type": "code",
   "execution_count": 113,
   "id": "5a633e56",
   "metadata": {},
   "outputs": [
    {
     "data": {
      "text/html": [
       "<div>\n",
       "<style scoped>\n",
       "    .dataframe tbody tr th:only-of-type {\n",
       "        vertical-align: middle;\n",
       "    }\n",
       "\n",
       "    .dataframe tbody tr th {\n",
       "        vertical-align: top;\n",
       "    }\n",
       "\n",
       "    .dataframe thead th {\n",
       "        text-align: right;\n",
       "    }\n",
       "</style>\n",
       "<table border=\"1\" class=\"dataframe\">\n",
       "  <thead>\n",
       "    <tr style=\"text-align: right;\">\n",
       "      <th></th>\n",
       "      <th>temperature</th>\n",
       "      <th>pressure</th>\n",
       "      <th>humidity</th>\n",
       "      <th>rain</th>\n",
       "      <th>day_or_night</th>\n",
       "      <th>weather</th>\n",
       "    </tr>\n",
       "  </thead>\n",
       "  <tbody>\n",
       "    <tr>\n",
       "      <th>6220</th>\n",
       "      <td>78</td>\n",
       "      <td>29.35</td>\n",
       "      <td>89</td>\n",
       "      <td>0.0</td>\n",
       "      <td>1</td>\n",
       "      <td>1</td>\n",
       "    </tr>\n",
       "    <tr>\n",
       "      <th>5569</th>\n",
       "      <td>78</td>\n",
       "      <td>29.43</td>\n",
       "      <td>87</td>\n",
       "      <td>0.0</td>\n",
       "      <td>0</td>\n",
       "      <td>1</td>\n",
       "    </tr>\n",
       "    <tr>\n",
       "      <th>5877</th>\n",
       "      <td>86</td>\n",
       "      <td>29.34</td>\n",
       "      <td>77</td>\n",
       "      <td>0.0</td>\n",
       "      <td>1</td>\n",
       "      <td>1</td>\n",
       "    </tr>\n",
       "    <tr>\n",
       "      <th>6018</th>\n",
       "      <td>81</td>\n",
       "      <td>29.38</td>\n",
       "      <td>81</td>\n",
       "      <td>0.05</td>\n",
       "      <td>1</td>\n",
       "      <td>1</td>\n",
       "    </tr>\n",
       "    <tr>\n",
       "      <th>6331</th>\n",
       "      <td>82</td>\n",
       "      <td>29.34</td>\n",
       "      <td>78</td>\n",
       "      <td>0.0</td>\n",
       "      <td>1</td>\n",
       "      <td>1</td>\n",
       "    </tr>\n",
       "    <tr>\n",
       "      <th>...</th>\n",
       "      <td>...</td>\n",
       "      <td>...</td>\n",
       "      <td>...</td>\n",
       "      <td>...</td>\n",
       "      <td>...</td>\n",
       "      <td>...</td>\n",
       "    </tr>\n",
       "    <tr>\n",
       "      <th>6222</th>\n",
       "      <td>77</td>\n",
       "      <td>29.4</td>\n",
       "      <td>91</td>\n",
       "      <td>0.0</td>\n",
       "      <td>0</td>\n",
       "      <td>11</td>\n",
       "    </tr>\n",
       "    <tr>\n",
       "      <th>6222</th>\n",
       "      <td>77</td>\n",
       "      <td>29.4</td>\n",
       "      <td>91</td>\n",
       "      <td>0.0</td>\n",
       "      <td>0</td>\n",
       "      <td>11</td>\n",
       "    </tr>\n",
       "    <tr>\n",
       "      <th>6281</th>\n",
       "      <td>75</td>\n",
       "      <td>29.4</td>\n",
       "      <td>91</td>\n",
       "      <td>3.3</td>\n",
       "      <td>1</td>\n",
       "      <td>11</td>\n",
       "    </tr>\n",
       "    <tr>\n",
       "      <th>6281</th>\n",
       "      <td>75</td>\n",
       "      <td>29.4</td>\n",
       "      <td>91</td>\n",
       "      <td>3.3</td>\n",
       "      <td>1</td>\n",
       "      <td>11</td>\n",
       "    </tr>\n",
       "    <tr>\n",
       "      <th>6287</th>\n",
       "      <td>74</td>\n",
       "      <td>29.36</td>\n",
       "      <td>91</td>\n",
       "      <td>0.0</td>\n",
       "      <td>0</td>\n",
       "      <td>11</td>\n",
       "    </tr>\n",
       "  </tbody>\n",
       "</table>\n",
       "<p>5500 rows × 6 columns</p>\n",
       "</div>"
      ],
      "text/plain": [
       "      temperature  pressure  humidity  rain  day_or_night  weather\n",
       "6220           78     29.35        89   0.0             1        1\n",
       "5569           78     29.43        87   0.0             0        1\n",
       "5877           86     29.34        77   0.0             1        1\n",
       "6018           81     29.38        81  0.05             1        1\n",
       "6331           82     29.34        78   0.0             1        1\n",
       "...           ...       ...       ...   ...           ...      ...\n",
       "6222           77      29.4        91   0.0             0       11\n",
       "6222           77      29.4        91   0.0             0       11\n",
       "6281           75      29.4        91   3.3             1       11\n",
       "6281           75      29.4        91   3.3             1       11\n",
       "6287           74     29.36        91   0.0             0       11\n",
       "\n",
       "[5500 rows x 6 columns]"
      ]
     },
     "execution_count": 113,
     "metadata": {},
     "output_type": "execute_result"
    }
   ],
   "source": [
    "from sklearn.utils import resample\n",
    "d1=df[df['weather']==1]\n",
    "d2=df[df['weather']==2]\n",
    "d3=df[df['weather']==3]\n",
    "d4=df[df['weather']==4]\n",
    "d5=df[df['weather']==5]\n",
    "d6=df[df['weather']==6]\n",
    "d7=df[df['weather']==7]\n",
    "d8=df[df['weather']==8]\n",
    "d9=df[df['weather']==9]\n",
    "d10=df[df['weather']==10]\n",
    "d11=df[df['weather']==11]\n",
    "\n",
    "d1 = resample(d1, n_samples=500)\n",
    "d2 = resample(d2, n_samples=500)\n",
    "d3 = resample(d3, n_samples=500)\n",
    "d4 = resample(d4, n_samples=500)\n",
    "d5 = resample(d5, n_samples=500)\n",
    "d6 = resample(d6, n_samples=500)\n",
    "d7 = resample(d7, n_samples=500)\n",
    "d8 = resample(d8, n_samples=500)\n",
    "d9 = resample(d9, n_samples=500)\n",
    "d10 = resample(d10, n_samples=500)\n",
    "d11 = resample(d11, n_samples=500)\n",
    "\n",
    "df=pd.concat([d1, d2, d3, d4, d5, d6, d7, d8, d9, d10, d11])\n",
    "df"
   ]
  },
  {
   "cell_type": "code",
   "execution_count": 114,
   "id": "a062e8c2",
   "metadata": {},
   "outputs": [
    {
     "data": {
      "text/html": [
       "<div>\n",
       "<style scoped>\n",
       "    .dataframe tbody tr th:only-of-type {\n",
       "        vertical-align: middle;\n",
       "    }\n",
       "\n",
       "    .dataframe tbody tr th {\n",
       "        vertical-align: top;\n",
       "    }\n",
       "\n",
       "    .dataframe thead th {\n",
       "        text-align: right;\n",
       "    }\n",
       "</style>\n",
       "<table border=\"1\" class=\"dataframe\">\n",
       "  <thead>\n",
       "    <tr style=\"text-align: right;\">\n",
       "      <th></th>\n",
       "      <th>temperature</th>\n",
       "      <th>pressure</th>\n",
       "      <th>humidity</th>\n",
       "      <th>rain</th>\n",
       "      <th>day_or_night</th>\n",
       "      <th>weather</th>\n",
       "    </tr>\n",
       "  </thead>\n",
       "  <tbody>\n",
       "    <tr>\n",
       "      <th>6220</th>\n",
       "      <td>78</td>\n",
       "      <td>29.35</td>\n",
       "      <td>89</td>\n",
       "      <td>0.0</td>\n",
       "      <td>1</td>\n",
       "      <td>1</td>\n",
       "    </tr>\n",
       "    <tr>\n",
       "      <th>5569</th>\n",
       "      <td>78</td>\n",
       "      <td>29.43</td>\n",
       "      <td>87</td>\n",
       "      <td>0.0</td>\n",
       "      <td>0</td>\n",
       "      <td>1</td>\n",
       "    </tr>\n",
       "    <tr>\n",
       "      <th>5877</th>\n",
       "      <td>86</td>\n",
       "      <td>29.34</td>\n",
       "      <td>77</td>\n",
       "      <td>0.0</td>\n",
       "      <td>1</td>\n",
       "      <td>1</td>\n",
       "    </tr>\n",
       "    <tr>\n",
       "      <th>6018</th>\n",
       "      <td>81</td>\n",
       "      <td>29.38</td>\n",
       "      <td>81</td>\n",
       "      <td>0.05</td>\n",
       "      <td>1</td>\n",
       "      <td>1</td>\n",
       "    </tr>\n",
       "    <tr>\n",
       "      <th>6331</th>\n",
       "      <td>82</td>\n",
       "      <td>29.34</td>\n",
       "      <td>78</td>\n",
       "      <td>0.0</td>\n",
       "      <td>1</td>\n",
       "      <td>1</td>\n",
       "    </tr>\n",
       "    <tr>\n",
       "      <th>...</th>\n",
       "      <td>...</td>\n",
       "      <td>...</td>\n",
       "      <td>...</td>\n",
       "      <td>...</td>\n",
       "      <td>...</td>\n",
       "      <td>...</td>\n",
       "    </tr>\n",
       "    <tr>\n",
       "      <th>6222</th>\n",
       "      <td>77</td>\n",
       "      <td>29.4</td>\n",
       "      <td>91</td>\n",
       "      <td>0.0</td>\n",
       "      <td>0</td>\n",
       "      <td>11</td>\n",
       "    </tr>\n",
       "    <tr>\n",
       "      <th>6222</th>\n",
       "      <td>77</td>\n",
       "      <td>29.4</td>\n",
       "      <td>91</td>\n",
       "      <td>0.0</td>\n",
       "      <td>0</td>\n",
       "      <td>11</td>\n",
       "    </tr>\n",
       "    <tr>\n",
       "      <th>6281</th>\n",
       "      <td>75</td>\n",
       "      <td>29.4</td>\n",
       "      <td>91</td>\n",
       "      <td>3.3</td>\n",
       "      <td>1</td>\n",
       "      <td>11</td>\n",
       "    </tr>\n",
       "    <tr>\n",
       "      <th>6281</th>\n",
       "      <td>75</td>\n",
       "      <td>29.4</td>\n",
       "      <td>91</td>\n",
       "      <td>3.3</td>\n",
       "      <td>1</td>\n",
       "      <td>11</td>\n",
       "    </tr>\n",
       "    <tr>\n",
       "      <th>6287</th>\n",
       "      <td>74</td>\n",
       "      <td>29.36</td>\n",
       "      <td>91</td>\n",
       "      <td>0.0</td>\n",
       "      <td>0</td>\n",
       "      <td>11</td>\n",
       "    </tr>\n",
       "  </tbody>\n",
       "</table>\n",
       "<p>5500 rows × 6 columns</p>\n",
       "</div>"
      ],
      "text/plain": [
       "      temperature  pressure  humidity  rain  day_or_night  weather\n",
       "6220           78     29.35        89   0.0             1        1\n",
       "5569           78     29.43        87   0.0             0        1\n",
       "5877           86     29.34        77   0.0             1        1\n",
       "6018           81     29.38        81  0.05             1        1\n",
       "6331           82     29.34        78   0.0             1        1\n",
       "...           ...       ...       ...   ...           ...      ...\n",
       "6222           77      29.4        91   0.0             0       11\n",
       "6222           77      29.4        91   0.0             0       11\n",
       "6281           75      29.4        91   3.3             1       11\n",
       "6281           75      29.4        91   3.3             1       11\n",
       "6287           74     29.36        91   0.0             0       11\n",
       "\n",
       "[5500 rows x 6 columns]"
      ]
     },
     "execution_count": 114,
     "metadata": {},
     "output_type": "execute_result"
    }
   ],
   "source": [
    "df"
   ]
  },
  {
   "cell_type": "code",
   "execution_count": 115,
   "id": "4f849294",
   "metadata": {
    "scrolled": true
   },
   "outputs": [
    {
     "data": {
      "image/png": "[encoded data removed]",
      "text/plain": [
       "<Figure size 1152x432 with 1 Axes>"
      ]
     },
     "metadata": {
      "needs_background": "light"
     },
     "output_type": "display_data"
    }
   ],
   "source": [
    "plt.figure(figsize=(16, 6))\n",
    "plt.scatter(np.arange(0, len(df)), df['temperature'])\n",
    "plt.ylabel(\"Temperature (℉)\")\n",
    "plt.title(\"Temperature distribution\")\n",
    "plt.show()"
   ]
  },
  {
   "cell_type": "code",
   "execution_count": 116,
   "id": "3344d47c",
   "metadata": {
    "scrolled": false
   },
   "outputs": [
    {
     "data": {
      "image/png": "[encoded data removed]",
      "text/plain": [
       "<Figure size 1152x432 with 1 Axes>"
      ]
     },
     "metadata": {
      "needs_background": "light"
     },
     "output_type": "display_data"
    }
   ],
   "source": [
    "plt.figure(figsize=(16, 6))\n",
    "plt.scatter(np.arange(0, len(df)), df['humidity'])\n",
    "plt.ylabel(\"Humidity (%)\")\n",
    "plt.title(\"Humidity distribution\")\n",
    "plt.show()"
   ]
  },
  {
   "cell_type": "code",
   "execution_count": 117,
   "id": "ec43fcfe",
   "metadata": {
    "scrolled": false
   },
   "outputs": [
    {
     "data": {
      "image/png": "[encoded data removed]",
      "text/plain": [
       "<Figure size 1152x432 with 1 Axes>"
      ]
     },
     "metadata": {
      "needs_background": "light"
     },
     "output_type": "display_data"
    }
   ],
   "source": [
    "plt.figure(figsize=(16, 6))\n",
    "plt.scatter(np.arange(0, len(df)), df['rain'])\n",
    "plt.ylabel(\"Rainfall (%)\")\n",
    "plt.title(\"Rainfall distribution\")\n",
    "plt.show()"
   ]
  },
  {
   "cell_type": "code",
   "execution_count": 118,
   "id": "cf133355",
   "metadata": {
    "scrolled": false
   },
   "outputs": [
    {
     "data": {
      "image/png": "[encoded data removed]",
      "text/plain": [
       "<Figure size 1152x432 with 1 Axes>"
      ]
     },
     "metadata": {
      "needs_background": "light"
     },
     "output_type": "display_data"
    }
   ],
   "source": [
    "plt.figure(figsize=(16, 6))\n",
    "plt.scatter(np.arange(0, len(df)), df['pressure'])\n",
    "plt.ylabel(\"Pressure (in)\")\n",
    "plt.title(\"Pressure distribution\")\n",
    "plt.show()"
   ]
  },
  {
   "cell_type": "code",
   "execution_count": 119,
   "id": "1f85b56b",
   "metadata": {
    "scrolled": false
   },
   "outputs": [
    {
     "data": {
      "image/png": "[encoded data removed]",
      "text/plain": [
       "<Figure size 1152x432 with 1 Axes>"
      ]
     },
     "metadata": {
      "needs_background": "light"
     },
     "output_type": "display_data"
    }
   ],
   "source": [
    "plt.figure(figsize=(16, 6))\n",
    "plt.scatter(np.arange(0, len(df)), df['day_or_night'])\n",
    "plt.ylabel(\"Day-or-Night (℉)\")\n",
    "plt.title(\"Day-or-Night distribution\")\n",
    "plt.show()"
   ]
  },
  {
   "cell_type": "code",
   "execution_count": 120,
   "id": "79001eff",
   "metadata": {
    "scrolled": false
   },
   "outputs": [
    {
     "data": {
      "image/png": "[encoded data removed]",
      "text/plain": [
       "<Figure size 1152x432 with 1 Axes>"
      ]
     },
     "metadata": {
      "needs_background": "light"
     },
     "output_type": "display_data"
    }
   ],
   "source": [
    "plt.figure(figsize=(16, 6))\n",
    "plt.scatter(np.arange(0, len(df)), df['weather'])\n",
    "plt.ylabel(\"Weather (℉)\")\n",
    "plt.title(\"Weather distribution\")\n",
    "plt.show()"
   ]
  },
  {
   "cell_type": "code",
   "execution_count": 121,
   "id": "5c1dae27",
   "metadata": {},
   "outputs": [
    {
     "data": {
      "image/png": "[encoded data removed]",
      "text/plain": [
       "<Figure size 1152x432 with 1 Axes>"
      ]
     },
     "metadata": {
      "needs_background": "light"
     },
     "output_type": "display_data"
    }
   ],
   "source": [
    "plt.figure(figsize=(16, 6))\n",
    "plt.boxplot(df['temperature'], vert=False, )\n",
    "plt.title(\"Temperature Plot\")\n",
    "plt.show()"
   ]
  },
  {
   "cell_type": "code",
   "execution_count": 122,
   "id": "ac50c551",
   "metadata": {},
   "outputs": [
    {
     "data": {
      "image/png": "[encoded data removed]",
      "text/plain": [
       "<Figure size 1152x432 with 1 Axes>"
      ]
     },
     "metadata": {
      "needs_background": "light"
     },
     "output_type": "display_data"
    }
   ],
   "source": [
    "plt.figure(figsize=(16, 6))\n",
    "plt.boxplot(df['pressure'], vert=False, )\n",
    "plt.title(\"Pressure Plot\")\n",
    "plt.show()"
   ]
  },
  {
   "cell_type": "code",
   "execution_count": 123,
   "id": "7c415e8a",
   "metadata": {},
   "outputs": [
    {
     "data": {
      "image/png": "[encoded data removed]",
      "text/plain": [
       "<Figure size 1152x432 with 1 Axes>"
      ]
     },
     "metadata": {
      "needs_background": "light"
     },
     "output_type": "display_data"
    }
   ],
   "source": [
    "plt.figure(figsize=(16, 6))\n",
    "plt.boxplot(df['rain'], vert=False, )\n",
    "plt.title(\"Rain Plot\")\n",
    "plt.show()"
   ]
  },
  {
   "cell_type": "code",
   "execution_count": 124,
   "id": "d1834faf",
   "metadata": {
    "scrolled": false
   },
   "outputs": [
    {
     "data": {
      "image/png": "[encoded data removed]",
      "text/plain": [
       "<Figure size 1152x432 with 1 Axes>"
      ]
     },
     "metadata": {
      "needs_background": "light"
     },
     "output_type": "display_data"
    }
   ],
   "source": [
    "plt.figure(figsize=(16, 6))\n",
    "plt.boxplot(df['humidity'], vert=False, )\n",
    "plt.title(\"Humidity Plot\")\n",
    "plt.show()"
   ]
  },
  {
   "cell_type": "code",
   "execution_count": 125,
   "id": "29a8f4e1",
   "metadata": {},
   "outputs": [
    {
     "data": {
      "image/png": "[encoded data removed]",
      "text/plain": [
       "<Figure size 1152x432 with 1 Axes>"
      ]
     },
     "metadata": {
      "needs_background": "light"
     },
     "output_type": "display_data"
    }
   ],
   "source": [
    "plt.figure(figsize=(16, 6))\n",
    "plt.boxplot(df['day_or_night'], vert=False, )\n",
    "plt.title(\"Day-or-Night Plot\")\n",
    "plt.show()"
   ]
  },
  {
   "cell_type": "code",
   "execution_count": 126,
   "id": "75ae1913",
   "metadata": {},
   "outputs": [],
   "source": [
    "def remove_outliers_zscore(df, column, threshold=3):\n",
    "    z_scores = np.abs((df[column] - df[column].mean()) / df[column].std())\n",
    "    return df[z_scores < threshold]\n",
    "\n",
    "df = remove_outliers_zscore(df, 'temperature')\n",
    "df = remove_outliers_zscore(df, 'pressure')\n",
    "df = remove_outliers_zscore(df, 'rain')\n",
    "df = remove_outliers_zscore(df, 'humidity')\n"
   ]
  },
  {
   "cell_type": "code",
   "execution_count": 127,
   "id": "12f26385",
   "metadata": {},
   "outputs": [
    {
     "data": {
      "text/html": [
       "<div>\n",
       "<style scoped>\n",
       "    .dataframe tbody tr th:only-of-type {\n",
       "        vertical-align: middle;\n",
       "    }\n",
       "\n",
       "    .dataframe tbody tr th {\n",
       "        vertical-align: top;\n",
       "    }\n",
       "\n",
       "    .dataframe thead th {\n",
       "        text-align: right;\n",
       "    }\n",
       "</style>\n",
       "<table border=\"1\" class=\"dataframe\">\n",
       "  <thead>\n",
       "    <tr style=\"text-align: right;\">\n",
       "      <th></th>\n",
       "      <th>temperature</th>\n",
       "      <th>pressure</th>\n",
       "      <th>humidity</th>\n",
       "      <th>rain</th>\n",
       "      <th>day_or_night</th>\n",
       "      <th>weather</th>\n",
       "    </tr>\n",
       "  </thead>\n",
       "  <tbody>\n",
       "    <tr>\n",
       "      <th>6220</th>\n",
       "      <td>78</td>\n",
       "      <td>29.35</td>\n",
       "      <td>89</td>\n",
       "      <td>0.0</td>\n",
       "      <td>1</td>\n",
       "      <td>1</td>\n",
       "    </tr>\n",
       "    <tr>\n",
       "      <th>5569</th>\n",
       "      <td>78</td>\n",
       "      <td>29.43</td>\n",
       "      <td>87</td>\n",
       "      <td>0.0</td>\n",
       "      <td>0</td>\n",
       "      <td>1</td>\n",
       "    </tr>\n",
       "    <tr>\n",
       "      <th>5877</th>\n",
       "      <td>86</td>\n",
       "      <td>29.34</td>\n",
       "      <td>77</td>\n",
       "      <td>0.0</td>\n",
       "      <td>1</td>\n",
       "      <td>1</td>\n",
       "    </tr>\n",
       "    <tr>\n",
       "      <th>6018</th>\n",
       "      <td>81</td>\n",
       "      <td>29.38</td>\n",
       "      <td>81</td>\n",
       "      <td>0.05</td>\n",
       "      <td>1</td>\n",
       "      <td>1</td>\n",
       "    </tr>\n",
       "    <tr>\n",
       "      <th>6331</th>\n",
       "      <td>82</td>\n",
       "      <td>29.34</td>\n",
       "      <td>78</td>\n",
       "      <td>0.0</td>\n",
       "      <td>1</td>\n",
       "      <td>1</td>\n",
       "    </tr>\n",
       "    <tr>\n",
       "      <th>...</th>\n",
       "      <td>...</td>\n",
       "      <td>...</td>\n",
       "      <td>...</td>\n",
       "      <td>...</td>\n",
       "      <td>...</td>\n",
       "      <td>...</td>\n",
       "    </tr>\n",
       "    <tr>\n",
       "      <th>6282</th>\n",
       "      <td>76</td>\n",
       "      <td>29.41</td>\n",
       "      <td>90</td>\n",
       "      <td>0.0</td>\n",
       "      <td>1</td>\n",
       "      <td>11</td>\n",
       "    </tr>\n",
       "    <tr>\n",
       "      <th>5914</th>\n",
       "      <td>74</td>\n",
       "      <td>29.43</td>\n",
       "      <td>91</td>\n",
       "      <td>1.94</td>\n",
       "      <td>1</td>\n",
       "      <td>11</td>\n",
       "    </tr>\n",
       "    <tr>\n",
       "      <th>6222</th>\n",
       "      <td>77</td>\n",
       "      <td>29.4</td>\n",
       "      <td>91</td>\n",
       "      <td>0.0</td>\n",
       "      <td>0</td>\n",
       "      <td>11</td>\n",
       "    </tr>\n",
       "    <tr>\n",
       "      <th>6222</th>\n",
       "      <td>77</td>\n",
       "      <td>29.4</td>\n",
       "      <td>91</td>\n",
       "      <td>0.0</td>\n",
       "      <td>0</td>\n",
       "      <td>11</td>\n",
       "    </tr>\n",
       "    <tr>\n",
       "      <th>6287</th>\n",
       "      <td>74</td>\n",
       "      <td>29.36</td>\n",
       "      <td>91</td>\n",
       "      <td>0.0</td>\n",
       "      <td>0</td>\n",
       "      <td>11</td>\n",
       "    </tr>\n",
       "  </tbody>\n",
       "</table>\n",
       "<p>5027 rows × 6 columns</p>\n",
       "</div>"
      ],
      "text/plain": [
       "      temperature  pressure  humidity  rain  day_or_night  weather\n",
       "6220           78     29.35        89   0.0             1        1\n",
       "5569           78     29.43        87   0.0             0        1\n",
       "5877           86     29.34        77   0.0             1        1\n",
       "6018           81     29.38        81  0.05             1        1\n",
       "6331           82     29.34        78   0.0             1        1\n",
       "...           ...       ...       ...   ...           ...      ...\n",
       "6282           76     29.41        90   0.0             1       11\n",
       "5914           74     29.43        91  1.94             1       11\n",
       "6222           77      29.4        91   0.0             0       11\n",
       "6222           77      29.4        91   0.0             0       11\n",
       "6287           74     29.36        91   0.0             0       11\n",
       "\n",
       "[5027 rows x 6 columns]"
      ]
     },
     "execution_count": 127,
     "metadata": {},
     "output_type": "execute_result"
    }
   ],
   "source": [
    "df"
   ]
  },
  {
   "cell_type": "code",
   "execution_count": 128,
   "id": "2960d271",
   "metadata": {
    "scrolled": false
   },
   "outputs": [
    {
     "data": {
      "image/png": "[encoded data removed]",
      "text/plain": [
       "<Figure size 1152x720 with 2 Axes>"
      ]
     },
     "metadata": {
      "needs_background": "light"
     },
     "output_type": "display_data"
    }
   ],
   "source": [
    "plt.figure(figsize=(16, 10))\n",
    "sns.heatmap(df.corr(), annot=True)\n",
    "plt.show()"
   ]
  },
  {
   "cell_type": "code",
   "execution_count": 129,
   "id": "02e48e21",
   "metadata": {},
   "outputs": [],
   "source": [
    "df = df.sample(frac = 1)"
   ]
  },
  {
   "cell_type": "code",
   "execution_count": 130,
   "id": "58724ae0",
   "metadata": {
    "scrolled": true
   },
   "outputs": [
    {
     "data": {
      "image/png": "[encoded data removed]",
      "text/plain": [
       "<Figure size 1152x432 with 1 Axes>"
      ]
     },
     "metadata": {
      "needs_background": "light"
     },
     "output_type": "display_data"
    }
   ],
   "source": [
    "plt.figure(figsize=(16, 6))\n",
    "plt.scatter(np.arange(0, len(df)), df['temperature'])\n",
    "plt.title(\"Weather distribution\")\n",
    "plt.show()"
   ]
  },
  {
   "cell_type": "code",
   "execution_count": 131,
   "id": "5199b576",
   "metadata": {
    "scrolled": false
   },
   "outputs": [
    {
     "data": {
      "image/png": "[encoded data removed]",
      "text/plain": [
       "<Figure size 1152x432 with 1 Axes>"
      ]
     },
     "metadata": {
      "needs_background": "light"
     },
     "output_type": "display_data"
    }
   ],
   "source": [
    "plt.figure(figsize=(16, 6))\n",
    "plt.scatter(np.arange(0, len(df)), df['humidity'])\n",
    "plt.show()"
   ]
  },
  {
   "cell_type": "code",
   "execution_count": 132,
   "id": "4c4558f7",
   "metadata": {
    "scrolled": false
   },
   "outputs": [
    {
     "data": {
      "image/png": "[encoded data removed]",
      "text/plain": [
       "<Figure size 1152x432 with 1 Axes>"
      ]
     },
     "metadata": {
      "needs_background": "light"
     },
     "output_type": "display_data"
    }
   ],
   "source": [
    "plt.figure(figsize=(16, 6))\n",
    "plt.scatter(np.arange(0, len(df)), df['rain'])\n",
    "plt.show()"
   ]
  },
  {
   "cell_type": "code",
   "execution_count": 133,
   "id": "46989c9b",
   "metadata": {
    "scrolled": false
   },
   "outputs": [
    {
     "data": {
      "image/png": "[encoded data removed]",
      "text/plain": [
       "<Figure size 1152x432 with 1 Axes>"
      ]
     },
     "metadata": {
      "needs_background": "light"
     },
     "output_type": "display_data"
    }
   ],
   "source": [
    "plt.figure(figsize=(16, 6))\n",
    "plt.scatter(np.arange(0, len(df)), df['pressure'])\n",
    "plt.show()"
   ]
  },
  {
   "cell_type": "code",
   "execution_count": 134,
   "id": "420fc0ae",
   "metadata": {},
   "outputs": [
    {
     "data": {
      "image/png": "[encoded data removed]",
      "text/plain": [
       "<Figure size 1152x432 with 1 Axes>"
      ]
     },
     "metadata": {
      "needs_background": "light"
     },
     "output_type": "display_data"
    }
   ],
   "source": [
    "plt.figure(figsize=(16, 6))\n",
    "plt.boxplot(df['temperature'], vert=False, )\n",
    "plt.show()"
   ]
  },
  {
   "cell_type": "code",
   "execution_count": 135,
   "id": "448cded9",
   "metadata": {},
   "outputs": [
    {
     "data": {
      "image/png": "[encoded data removed]",
      "text/plain": [
       "<Figure size 1152x432 with 1 Axes>"
      ]
     },
     "metadata": {
      "needs_background": "light"
     },
     "output_type": "display_data"
    }
   ],
   "source": [
    "plt.figure(figsize=(16, 6))\n",
    "plt.boxplot(df['pressure'], vert=False, )\n",
    "plt.show()"
   ]
  },
  {
   "cell_type": "code",
   "execution_count": 136,
   "id": "6a2502c0",
   "metadata": {},
   "outputs": [
    {
     "data": {
      "image/png": "[encoded data removed]",
      "text/plain": [
       "<Figure size 1152x432 with 1 Axes>"
      ]
     },
     "metadata": {
      "needs_background": "light"
     },
     "output_type": "display_data"
    }
   ],
   "source": [
    "plt.figure(figsize=(16, 6))\n",
    "plt.boxplot(df['rain'], vert=False, )\n",
    "plt.show()"
   ]
  },
  {
   "cell_type": "code",
   "execution_count": 137,
   "id": "4e8d6768",
   "metadata": {
    "scrolled": false
   },
   "outputs": [
    {
     "data": {
      "image/png": "[encoded data removed]",
      "text/plain": [
       "<Figure size 1152x432 with 1 Axes>"
      ]
     },
     "metadata": {
      "needs_background": "light"
     },
     "output_type": "display_data"
    }
   ],
   "source": [
    "plt.figure(figsize=(16, 6))\n",
    "plt.boxplot(df['humidity'], vert=False, )\n",
    "plt.show()"
   ]
  },
  {
   "cell_type": "code",
   "execution_count": null,
   "id": "dcad0a9e",
   "metadata": {},
   "outputs": [],
   "source": []
  },
  {
   "cell_type": "code",
   "execution_count": 138,
   "id": "6683fa9f",
   "metadata": {},
   "outputs": [],
   "source": [
    "df.to_csv(\"final_data.csv\", index=False)"
   ]
  },
  {
   "cell_type": "code",
   "execution_count": 139,
   "id": "c74ad374",
   "metadata": {},
   "outputs": [
    {
     "data": {
      "text/html": [
       "<div>\n",
       "<style scoped>\n",
       "    .dataframe tbody tr th:only-of-type {\n",
       "        vertical-align: middle;\n",
       "    }\n",
       "\n",
       "    .dataframe tbody tr th {\n",
       "        vertical-align: top;\n",
       "    }\n",
       "\n",
       "    .dataframe thead th {\n",
       "        text-align: right;\n",
       "    }\n",
       "</style>\n",
       "<table border=\"1\" class=\"dataframe\">\n",
       "  <thead>\n",
       "    <tr style=\"text-align: right;\">\n",
       "      <th></th>\n",
       "      <th>temperature</th>\n",
       "      <th>pressure</th>\n",
       "      <th>humidity</th>\n",
       "      <th>rain</th>\n",
       "      <th>day_or_night</th>\n",
       "      <th>weather</th>\n",
       "    </tr>\n",
       "  </thead>\n",
       "  <tbody>\n",
       "    <tr>\n",
       "      <th>0</th>\n",
       "      <td>75</td>\n",
       "      <td>29.36</td>\n",
       "      <td>91</td>\n",
       "      <td>0.0</td>\n",
       "      <td>0</td>\n",
       "      <td>10</td>\n",
       "    </tr>\n",
       "    <tr>\n",
       "      <th>1</th>\n",
       "      <td>76</td>\n",
       "      <td>29.41</td>\n",
       "      <td>90</td>\n",
       "      <td>0.0</td>\n",
       "      <td>1</td>\n",
       "      <td>11</td>\n",
       "    </tr>\n",
       "    <tr>\n",
       "      <th>2</th>\n",
       "      <td>76</td>\n",
       "      <td>29.49</td>\n",
       "      <td>91</td>\n",
       "      <td>0.0</td>\n",
       "      <td>0</td>\n",
       "      <td>8</td>\n",
       "    </tr>\n",
       "    <tr>\n",
       "      <th>3</th>\n",
       "      <td>78</td>\n",
       "      <td>29.44</td>\n",
       "      <td>92</td>\n",
       "      <td>0.0</td>\n",
       "      <td>1</td>\n",
       "      <td>7</td>\n",
       "    </tr>\n",
       "    <tr>\n",
       "      <th>4</th>\n",
       "      <td>74</td>\n",
       "      <td>29.36</td>\n",
       "      <td>91</td>\n",
       "      <td>0.0</td>\n",
       "      <td>1</td>\n",
       "      <td>6</td>\n",
       "    </tr>\n",
       "    <tr>\n",
       "      <th>...</th>\n",
       "      <td>...</td>\n",
       "      <td>...</td>\n",
       "      <td>...</td>\n",
       "      <td>...</td>\n",
       "      <td>...</td>\n",
       "      <td>...</td>\n",
       "    </tr>\n",
       "    <tr>\n",
       "      <th>5022</th>\n",
       "      <td>85</td>\n",
       "      <td>29.41</td>\n",
       "      <td>77</td>\n",
       "      <td>0.0</td>\n",
       "      <td>1</td>\n",
       "      <td>5</td>\n",
       "    </tr>\n",
       "    <tr>\n",
       "      <th>5023</th>\n",
       "      <td>80</td>\n",
       "      <td>29.40</td>\n",
       "      <td>86</td>\n",
       "      <td>0.0</td>\n",
       "      <td>1</td>\n",
       "      <td>4</td>\n",
       "    </tr>\n",
       "    <tr>\n",
       "      <th>5024</th>\n",
       "      <td>90</td>\n",
       "      <td>29.36</td>\n",
       "      <td>64</td>\n",
       "      <td>0.0</td>\n",
       "      <td>1</td>\n",
       "      <td>3</td>\n",
       "    </tr>\n",
       "    <tr>\n",
       "      <th>5025</th>\n",
       "      <td>75</td>\n",
       "      <td>29.44</td>\n",
       "      <td>91</td>\n",
       "      <td>0.0</td>\n",
       "      <td>0</td>\n",
       "      <td>4</td>\n",
       "    </tr>\n",
       "    <tr>\n",
       "      <th>5026</th>\n",
       "      <td>85</td>\n",
       "      <td>29.40</td>\n",
       "      <td>73</td>\n",
       "      <td>0.0</td>\n",
       "      <td>0</td>\n",
       "      <td>3</td>\n",
       "    </tr>\n",
       "  </tbody>\n",
       "</table>\n",
       "<p>5027 rows × 6 columns</p>\n",
       "</div>"
      ],
      "text/plain": [
       "      temperature  pressure  humidity  rain  day_or_night  weather\n",
       "0              75     29.36        91   0.0             0       10\n",
       "1              76     29.41        90   0.0             1       11\n",
       "2              76     29.49        91   0.0             0        8\n",
       "3              78     29.44        92   0.0             1        7\n",
       "4              74     29.36        91   0.0             1        6\n",
       "...           ...       ...       ...   ...           ...      ...\n",
       "5022           85     29.41        77   0.0             1        5\n",
       "5023           80     29.40        86   0.0             1        4\n",
       "5024           90     29.36        64   0.0             1        3\n",
       "5025           75     29.44        91   0.0             0        4\n",
       "5026           85     29.40        73   0.0             0        3\n",
       "\n",
       "[5027 rows x 6 columns]"
      ]
     },
     "execution_count": 139,
     "metadata": {},
     "output_type": "execute_result"
    }
   ],
   "source": [
    "df=pd.read_csv(\"final_data.csv\")\n",
    "df"
   ]
  },
  {
   "cell_type": "code",
   "execution_count": 140,
   "id": "66bce1ff",
   "metadata": {},
   "outputs": [],
   "source": [
    "from sklearn.model_selection import train_test_split\n",
    "from sklearn.metrics import accuracy_score"
   ]
  },
  {
   "cell_type": "code",
   "execution_count": 165,
   "id": "889f9971",
   "metadata": {},
   "outputs": [],
   "source": [
    "x=df.drop(columns=['weather'])\n",
    "y=df['weather']\n",
    "x_train, x_test, y_train, y_test = train_test_split(x, y, test_size=0.2)"
   ]
  },
  {
   "cell_type": "code",
   "execution_count": 166,
   "id": "785d10e2",
   "metadata": {
    "scrolled": true
   },
   "outputs": [
    {
     "data": {
      "text/html": [
       "<div>\n",
       "<style scoped>\n",
       "    .dataframe tbody tr th:only-of-type {\n",
       "        vertical-align: middle;\n",
       "    }\n",
       "\n",
       "    .dataframe tbody tr th {\n",
       "        vertical-align: top;\n",
       "    }\n",
       "\n",
       "    .dataframe thead th {\n",
       "        text-align: right;\n",
       "    }\n",
       "</style>\n",
       "<table border=\"1\" class=\"dataframe\">\n",
       "  <thead>\n",
       "    <tr style=\"text-align: right;\">\n",
       "      <th></th>\n",
       "      <th>temperature</th>\n",
       "      <th>pressure</th>\n",
       "      <th>humidity</th>\n",
       "      <th>rain</th>\n",
       "      <th>day_or_night</th>\n",
       "    </tr>\n",
       "  </thead>\n",
       "  <tbody>\n",
       "    <tr>\n",
       "      <th>4239</th>\n",
       "      <td>77</td>\n",
       "      <td>29.40</td>\n",
       "      <td>85</td>\n",
       "      <td>0.00</td>\n",
       "      <td>1</td>\n",
       "    </tr>\n",
       "    <tr>\n",
       "      <th>537</th>\n",
       "      <td>78</td>\n",
       "      <td>29.45</td>\n",
       "      <td>90</td>\n",
       "      <td>0.00</td>\n",
       "      <td>0</td>\n",
       "    </tr>\n",
       "    <tr>\n",
       "      <th>4974</th>\n",
       "      <td>80</td>\n",
       "      <td>29.58</td>\n",
       "      <td>76</td>\n",
       "      <td>0.00</td>\n",
       "      <td>0</td>\n",
       "    </tr>\n",
       "    <tr>\n",
       "      <th>691</th>\n",
       "      <td>77</td>\n",
       "      <td>29.40</td>\n",
       "      <td>91</td>\n",
       "      <td>0.00</td>\n",
       "      <td>0</td>\n",
       "    </tr>\n",
       "    <tr>\n",
       "      <th>1068</th>\n",
       "      <td>85</td>\n",
       "      <td>29.40</td>\n",
       "      <td>70</td>\n",
       "      <td>0.00</td>\n",
       "      <td>1</td>\n",
       "    </tr>\n",
       "    <tr>\n",
       "      <th>...</th>\n",
       "      <td>...</td>\n",
       "      <td>...</td>\n",
       "      <td>...</td>\n",
       "      <td>...</td>\n",
       "      <td>...</td>\n",
       "    </tr>\n",
       "    <tr>\n",
       "      <th>4080</th>\n",
       "      <td>76</td>\n",
       "      <td>29.40</td>\n",
       "      <td>91</td>\n",
       "      <td>0.00</td>\n",
       "      <td>0</td>\n",
       "    </tr>\n",
       "    <tr>\n",
       "      <th>1555</th>\n",
       "      <td>79</td>\n",
       "      <td>29.56</td>\n",
       "      <td>80</td>\n",
       "      <td>0.00</td>\n",
       "      <td>0</td>\n",
       "    </tr>\n",
       "    <tr>\n",
       "      <th>2411</th>\n",
       "      <td>73</td>\n",
       "      <td>29.42</td>\n",
       "      <td>79</td>\n",
       "      <td>0.00</td>\n",
       "      <td>0</td>\n",
       "    </tr>\n",
       "    <tr>\n",
       "      <th>4013</th>\n",
       "      <td>76</td>\n",
       "      <td>29.34</td>\n",
       "      <td>91</td>\n",
       "      <td>0.97</td>\n",
       "      <td>1</td>\n",
       "    </tr>\n",
       "    <tr>\n",
       "      <th>2746</th>\n",
       "      <td>85</td>\n",
       "      <td>29.56</td>\n",
       "      <td>58</td>\n",
       "      <td>0.00</td>\n",
       "      <td>1</td>\n",
       "    </tr>\n",
       "  </tbody>\n",
       "</table>\n",
       "<p>4021 rows × 5 columns</p>\n",
       "</div>"
      ],
      "text/plain": [
       "      temperature  pressure  humidity  rain  day_or_night\n",
       "4239           77     29.40        85  0.00             1\n",
       "537            78     29.45        90  0.00             0\n",
       "4974           80     29.58        76  0.00             0\n",
       "691            77     29.40        91  0.00             0\n",
       "1068           85     29.40        70  0.00             1\n",
       "...           ...       ...       ...   ...           ...\n",
       "4080           76     29.40        91  0.00             0\n",
       "1555           79     29.56        80  0.00             0\n",
       "2411           73     29.42        79  0.00             0\n",
       "4013           76     29.34        91  0.97             1\n",
       "2746           85     29.56        58  0.00             1\n",
       "\n",
       "[4021 rows x 5 columns]"
      ]
     },
     "execution_count": 166,
     "metadata": {},
     "output_type": "execute_result"
    }
   ],
   "source": [
    "x_train"
   ]
  },
  {
   "cell_type": "code",
   "execution_count": 167,
   "id": "a01e66a2",
   "metadata": {},
   "outputs": [
    {
     "data": {
      "text/plain": [
       "temperature       int64\n",
       "pressure        float64\n",
       "humidity          int64\n",
       "rain            float64\n",
       "day_or_night      int64\n",
       "dtype: object"
      ]
     },
     "execution_count": 167,
     "metadata": {},
     "output_type": "execute_result"
    }
   ],
   "source": [
    "x_train.dtypes"
   ]
  },
  {
   "cell_type": "code",
   "execution_count": 168,
   "id": "dc9ad4fc",
   "metadata": {},
   "outputs": [
    {
     "data": {
      "text/plain": [
       "4239     7\n",
       "537      7\n",
       "4974     2\n",
       "691     11\n",
       "1068     1\n",
       "        ..\n",
       "4080     8\n",
       "1555     2\n",
       "2411     2\n",
       "4013     7\n",
       "2746     2\n",
       "Name: weather, Length: 4021, dtype: int64"
      ]
     },
     "execution_count": 168,
     "metadata": {},
     "output_type": "execute_result"
    }
   ],
   "source": [
    "y_train"
   ]
  },
  {
   "cell_type": "code",
   "execution_count": 169,
   "id": "7cbd87de",
   "metadata": {
    "scrolled": true
   },
   "outputs": [
    {
     "data": {
      "text/html": [
       "<div>\n",
       "<style scoped>\n",
       "    .dataframe tbody tr th:only-of-type {\n",
       "        vertical-align: middle;\n",
       "    }\n",
       "\n",
       "    .dataframe tbody tr th {\n",
       "        vertical-align: top;\n",
       "    }\n",
       "\n",
       "    .dataframe thead th {\n",
       "        text-align: right;\n",
       "    }\n",
       "</style>\n",
       "<table border=\"1\" class=\"dataframe\">\n",
       "  <thead>\n",
       "    <tr style=\"text-align: right;\">\n",
       "      <th></th>\n",
       "      <th>temperature</th>\n",
       "      <th>pressure</th>\n",
       "      <th>humidity</th>\n",
       "      <th>rain</th>\n",
       "      <th>day_or_night</th>\n",
       "    </tr>\n",
       "  </thead>\n",
       "  <tbody>\n",
       "    <tr>\n",
       "      <th>1986</th>\n",
       "      <td>82</td>\n",
       "      <td>29.34</td>\n",
       "      <td>84</td>\n",
       "      <td>0.0</td>\n",
       "      <td>1</td>\n",
       "    </tr>\n",
       "    <tr>\n",
       "      <th>3635</th>\n",
       "      <td>78</td>\n",
       "      <td>29.54</td>\n",
       "      <td>90</td>\n",
       "      <td>0.0</td>\n",
       "      <td>1</td>\n",
       "    </tr>\n",
       "    <tr>\n",
       "      <th>4834</th>\n",
       "      <td>74</td>\n",
       "      <td>29.28</td>\n",
       "      <td>91</td>\n",
       "      <td>0.0</td>\n",
       "      <td>0</td>\n",
       "    </tr>\n",
       "    <tr>\n",
       "      <th>1377</th>\n",
       "      <td>76</td>\n",
       "      <td>29.47</td>\n",
       "      <td>91</td>\n",
       "      <td>0.0</td>\n",
       "      <td>0</td>\n",
       "    </tr>\n",
       "    <tr>\n",
       "      <th>1462</th>\n",
       "      <td>77</td>\n",
       "      <td>29.43</td>\n",
       "      <td>90</td>\n",
       "      <td>0.0</td>\n",
       "      <td>0</td>\n",
       "    </tr>\n",
       "    <tr>\n",
       "      <th>...</th>\n",
       "      <td>...</td>\n",
       "      <td>...</td>\n",
       "      <td>...</td>\n",
       "      <td>...</td>\n",
       "      <td>...</td>\n",
       "    </tr>\n",
       "    <tr>\n",
       "      <th>4089</th>\n",
       "      <td>75</td>\n",
       "      <td>29.40</td>\n",
       "      <td>91</td>\n",
       "      <td>0.0</td>\n",
       "      <td>0</td>\n",
       "    </tr>\n",
       "    <tr>\n",
       "      <th>1347</th>\n",
       "      <td>74</td>\n",
       "      <td>29.32</td>\n",
       "      <td>91</td>\n",
       "      <td>0.0</td>\n",
       "      <td>1</td>\n",
       "    </tr>\n",
       "    <tr>\n",
       "      <th>4542</th>\n",
       "      <td>74</td>\n",
       "      <td>29.38</td>\n",
       "      <td>93</td>\n",
       "      <td>0.0</td>\n",
       "      <td>0</td>\n",
       "    </tr>\n",
       "    <tr>\n",
       "      <th>2018</th>\n",
       "      <td>79</td>\n",
       "      <td>29.41</td>\n",
       "      <td>86</td>\n",
       "      <td>0.0</td>\n",
       "      <td>0</td>\n",
       "    </tr>\n",
       "    <tr>\n",
       "      <th>2498</th>\n",
       "      <td>76</td>\n",
       "      <td>29.42</td>\n",
       "      <td>82</td>\n",
       "      <td>0.0</td>\n",
       "      <td>0</td>\n",
       "    </tr>\n",
       "  </tbody>\n",
       "</table>\n",
       "<p>1006 rows × 5 columns</p>\n",
       "</div>"
      ],
      "text/plain": [
       "      temperature  pressure  humidity  rain  day_or_night\n",
       "1986           82     29.34        84   0.0             1\n",
       "3635           78     29.54        90   0.0             1\n",
       "4834           74     29.28        91   0.0             0\n",
       "1377           76     29.47        91   0.0             0\n",
       "1462           77     29.43        90   0.0             0\n",
       "...           ...       ...       ...   ...           ...\n",
       "4089           75     29.40        91   0.0             0\n",
       "1347           74     29.32        91   0.0             1\n",
       "4542           74     29.38        93   0.0             0\n",
       "2018           79     29.41        86   0.0             0\n",
       "2498           76     29.42        82   0.0             0\n",
       "\n",
       "[1006 rows x 5 columns]"
      ]
     },
     "execution_count": 169,
     "metadata": {},
     "output_type": "execute_result"
    }
   ],
   "source": [
    "x_test"
   ]
  },
  {
   "cell_type": "code",
   "execution_count": 170,
   "id": "ae3ee7b6",
   "metadata": {},
   "outputs": [
    {
     "data": {
      "text/plain": [
       "1986    10\n",
       "3635     8\n",
       "4834     4\n",
       "1377     6\n",
       "1462     4\n",
       "        ..\n",
       "4089     9\n",
       "1347     6\n",
       "4542     6\n",
       "2018     5\n",
       "2498     7\n",
       "Name: weather, Length: 1006, dtype: int64"
      ]
     },
     "execution_count": 170,
     "metadata": {},
     "output_type": "execute_result"
    }
   ],
   "source": [
    "y_test"
   ]
  },
  {
   "cell_type": "code",
   "execution_count": 172,
   "id": "0e2b457d",
   "metadata": {},
   "outputs": [],
   "source": [
    "from sklearn.neighbors import KNeighborsClassifier        #K-Nearest Neighbors (KNN)\n",
    "from sklearn.tree import DecisionTreeClassifier        #Decision Tree Classifier\n",
    "from sklearn.ensemble import RandomForestClassifier        #Random Forest Classifier"
   ]
  },
  {
   "cell_type": "markdown",
   "id": "1756bb0a",
   "metadata": {},
   "source": [
    "## K-Nearest Neighbors (KNN)"
   ]
  },
  {
   "cell_type": "code",
   "execution_count": 173,
   "id": "18e1f4af",
   "metadata": {},
   "outputs": [
    {
     "data": {
      "text/plain": [
       "0.6978131212723658"
      ]
     },
     "execution_count": 173,
     "metadata": {},
     "output_type": "execute_result"
    }
   ],
   "source": [
    "model=KNeighborsClassifier()\n",
    "model.fit(x_train, y_train)\n",
    "prediction=model.predict(x_test)\n",
    "score=accuracy_score(y_test, prediction)\n",
    "score"
   ]
  },
  {
   "cell_type": "markdown",
   "id": "163b207d",
   "metadata": {},
   "source": [
    "## Decision Tree Classifier"
   ]
  },
  {
   "cell_type": "code",
   "execution_count": 174,
   "id": "8a1feecc",
   "metadata": {},
   "outputs": [
    {
     "data": {
      "text/plain": [
       "0.8141153081510935"
      ]
     },
     "execution_count": 174,
     "metadata": {},
     "output_type": "execute_result"
    }
   ],
   "source": [
    "model=DecisionTreeClassifier()\n",
    "model.fit(x_train, y_train)\n",
    "prediction=model.predict(x_test)\n",
    "score=accuracy_score(y_test, prediction)\n",
    "score"
   ]
  },
  {
   "cell_type": "markdown",
   "id": "c64d3650",
   "metadata": {},
   "source": [
    "## Random Forest Classifier"
   ]
  },
  {
   "cell_type": "code",
   "execution_count": 224,
   "id": "323d749b",
   "metadata": {},
   "outputs": [
    {
     "data": {
      "text/plain": [
       "0.8170974155069582"
      ]
     },
     "execution_count": 224,
     "metadata": {},
     "output_type": "execute_result"
    }
   ],
   "source": [
    "model=RandomForestClassifier()\n",
    "model.fit(x_train, y_train)\n",
    "prediction=model.predict(x_test)\n",
    "score=accuracy_score(y_test, prediction)\n",
    "score"
   ]
  },
  {
   "cell_type": "code",
   "execution_count": 225,
   "id": "29ec268b",
   "metadata": {},
   "outputs": [],
   "source": [
    "from joblib import dump"
   ]
  },
  {
   "cell_type": "code",
   "execution_count": 226,
   "id": "13c2ebed",
   "metadata": {},
   "outputs": [
    {
     "data": {
      "text/plain": [
       "['model.joblib']"
      ]
     },
     "execution_count": 226,
     "metadata": {},
     "output_type": "execute_result"
    }
   ],
   "source": [
    "dump(model, \"model.joblib\")"
   ]
  },
  {
   "cell_type": "markdown",
   "id": "d6a012c5",
   "metadata": {},
   "source": [
    "###### "
   ]
  },
  {
   "cell_type": "code",
   "execution_count": 4,
   "id": "5da3b24c",
   "metadata": {},
   "outputs": [
    {
     "name": "stdout",
     "output_type": "stream",
     "text": [
      "[10]\n"
     ]
    },
    {
     "name": "stderr",
     "output_type": "stream",
     "text": [
      "C:\\Users\\user\\AppData\\Local\\Programs\\Python\\Python310\\lib\\site-packages\\sklearn\\base.py:450: UserWarning: X does not have valid feature names, but RandomForestClassifier was fitted with feature names\n",
      "  \"The feature names should match those that were passed during fit.\\n\"\n"
     ]
    }
   ],
   "source": [
    "from joblib import load\n",
    "\n",
    "model = load('model.joblib')\n",
    "# [temperature\tpressure\thumidity\train\tday_or_night]\n",
    "prediction = model.predict([[82, 9.34, 84, 0.0, 1]])\n",
    "print(prediction)"
   ]
  },
  {
   "cell_type": "code",
   "execution_count": null,
   "id": "eb3f5e00",
   "metadata": {},
   "outputs": [],
   "source": [
    "pre"
   ]
  }
 ],
 "metadata": {
  "kernelspec": {
   "display_name": "Python 3 (ipykernel)",
   "language": "python",
   "name": "python3"
  },
  "language_info": {
   "codemirror_mode": {
    "name": "ipython",
    "version": 3
   },
   "file_extension": ".py",
   "mimetype": "text/x-python",
   "name": "python",
   "nbconvert_exporter": "python",
   "pygments_lexer": "ipython3",
   "version": "3.10.5"
  }
 },
 "nbformat": 4,
 "nbformat_minor": 5
}
